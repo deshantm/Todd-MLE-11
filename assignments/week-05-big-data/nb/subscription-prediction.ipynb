{
 "cells": [
  {
   "cell_type": "markdown",
   "metadata": {
    "id": "lmil5P4G6052"
   },
   "source": [
    "<p align = \"center\" draggable=”false” ><img src=\"https://user-images.githubusercontent.com/37101144/161836199-fdb0219d-0361-4988-bf26-48b0fad160a3.png\" \n",
    "     width=\"200px\"\n",
    "     height=\"auto\"/>\n",
    "</p>"
   ]
  },
  {
   "cell_type": "markdown",
   "metadata": {
    "application/vnd.databricks.v1+cell": {
     "inputWidgets": {},
     "nuid": "f25fead1-c5a9-4222-a41c-5d1634dd3446",
     "showTitle": false,
     "title": ""
    },
    "id": "oQU8pT9m6055"
   },
   "source": [
    "# <h1 align=\"center\" id=\"heading\">Subscription Prediction with Delta Lake, PySpark, and MLlib</h1>"
   ]
  },
  {
   "cell_type": "markdown",
   "metadata": {
    "id": "vxs4CnZ8MYR9"
   },
   "source": [
    "# Spark Environment\n",
    "\n",
    "Make sure that you open this notebook in your Spark environment!"
   ]
  },
  {
   "cell_type": "code",
   "execution_count": 1,
   "metadata": {
    "id": "i5lvRImyZQKy"
   },
   "outputs": [],
   "source": [
    "# !pip install -U -q pyspark delta-spark # If you use Colab uncomment this line"
   ]
  },
  {
   "cell_type": "markdown",
   "metadata": {
    "id": "B30ILkiC6056"
   },
   "source": [
    "## Learning Objectives"
   ]
  },
  {
   "cell_type": "markdown",
   "metadata": {
    "id": "Dvbp4ifI6057"
   },
   "source": [
    "At the end of this session, you will be able to \n",
    "\n",
    "- Load, save, partition data with Delta Lake tables\n",
    "- Explore data with Spark DataFrames \n",
    "- Build a pipeline in MLlib for machine learning workflow\n",
    "- Fit a logistic regression model, make predictions, and evaluate the model"
   ]
  },
  {
   "cell_type": "markdown",
   "metadata": {
    "application/vnd.databricks.v1+cell": {
     "inputWidgets": {},
     "nuid": "2571c03a-cae9-4b9b-9861-f040eb696b2a",
     "showTitle": false,
     "title": ""
    },
    "id": "tTvh8EkV6057"
   },
   "source": [
    "## Part 1: Data Loader\n",
    "\n",
    "We are using a dataset from the UCI Machine Learning Repository.\n",
    "\n",
    "1. Use `wget` to download the dataset. Then use `ls` to verify that the `bank.zip` file is downloaded."
   ]
  },
  {
   "cell_type": "code",
   "execution_count": 2,
   "metadata": {
    "colab": {
     "base_uri": "https://localhost:8080/"
    },
    "id": "z0Su1lUX6058",
    "outputId": "dcf3d53c-06ad-44d6-db86-5c47bd11420e"
   },
   "outputs": [
    {
     "name": "stderr",
     "output_type": "stream",
     "text": [
      "--2023-01-14 17:58:24--  https://archive.ics.uci.edu/ml/machine-learning-databases/00222/bank.zip\n",
      "Resolving archive.ics.uci.edu (archive.ics.uci.edu)... 128.195.10.252\n",
      "Connecting to archive.ics.uci.edu (archive.ics.uci.edu)|128.195.10.252|:443... connected.\n",
      "HTTP request sent, awaiting response... 200 OK\n",
      "Length: 579043 (565K) [application/x-httpd-php]\n",
      "Saving to: ‘bank.zip’\n",
      "\n",
      "     0K .......... .......... .......... .......... ..........  8%  239K 2s\n",
      "    50K .......... .......... .......... .......... .......... 17%  966K 1s\n",
      "   100K .......... .......... .......... .......... .......... 26% 3.41M 1s\n",
      "   150K .......... .......... .......... .......... .......... 35%  719K 1s\n",
      "   200K .......... .......... .......... .......... .......... 44% 3.28M 0s\n",
      "   250K .......... .......... .......... .......... .......... 53% 5.10M 0s\n",
      "   300K .......... .......... .......... .......... .......... 61% 2.85M 0s\n",
      "   350K .......... .......... .......... .......... .......... 70% 1.47M 0s\n",
      "   400K .......... .......... .......... .......... .......... 79%  573K 0s\n",
      "   450K .......... .......... .......... .......... .......... 88% 3.52M 0s\n",
      "   500K .......... .......... .......... .......... .......... 97% 3.15M 0s\n",
      "   550K .......... .....                                      100% 34.7M=0.5s\n",
      "\n",
      "2023-01-14 17:58:25 (1.03 MB/s) - ‘bank.zip’ saved [579043/579043]\n",
      "\n"
     ]
    }
   ],
   "source": [
    "%%sh\n",
    "wget https://archive.ics.uci.edu/ml/machine-learning-databases/00222/bank.zip"
   ]
  },
  {
   "cell_type": "code",
   "execution_count": 1,
   "metadata": {
    "application/vnd.databricks.v1+cell": {
     "inputWidgets": {},
     "nuid": "14241a78-c5ad-4962-9322-e0e6bdf3737f",
     "showTitle": false,
     "title": ""
    },
    "colab": {
     "base_uri": "https://localhost:8080/"
    },
    "id": "0gAxRiyy605-",
    "outputId": "9023a057-930e-458c-dd8e-2493d8bc8120"
   },
   "outputs": [
    {
     "name": "stdout",
     "output_type": "stream",
     "text": [
      "bank.zip\n"
     ]
    }
   ],
   "source": [
    "ls ../dat"
   ]
  },
  {
   "cell_type": "markdown",
   "metadata": {
    "id": "cGBxoptx605-"
   },
   "source": [
    "2. Unzip the file and use `ls` to see the files."
   ]
  },
  {
   "cell_type": "code",
   "execution_count": 6,
   "metadata": {
    "application/vnd.databricks.v1+cell": {
     "inputWidgets": {},
     "nuid": "000511fa-ff85-406c-9186-34c56a0369a6",
     "showTitle": false,
     "title": ""
    },
    "colab": {
     "base_uri": "https://localhost:8080/"
    },
    "id": "hySwTxHs605_",
    "outputId": "f9ac5ddd-807a-49e0-ca45-bc00e3bb8ac6"
   },
   "outputs": [
    {
     "name": "stdout",
     "output_type": "stream",
     "text": [
      "Archive:  ../dat/bank.zip\n",
      "  inflating: bank-full.csv           \n",
      "  inflating: bank-names.txt          \n",
      "  inflating: bank.csv                \n"
     ]
    }
   ],
   "source": [
    "%%sh\n",
    "cd ../dat\n",
    "unzip -o ../dat/bank.zip"
   ]
  },
  {
   "cell_type": "code",
   "execution_count": 7,
   "metadata": {
    "application/vnd.databricks.v1+cell": {
     "inputWidgets": {},
     "nuid": "2349ba91-fc61-456f-96bf-5f5aea6b32d1",
     "showTitle": false,
     "title": ""
    },
    "colab": {
     "base_uri": "https://localhost:8080/"
    },
    "id": "K6UDQW1y605_",
    "outputId": "4a312342-54ef-4722-98b0-38005bbcd06f"
   },
   "outputs": [
    {
     "name": "stdout",
     "output_type": "stream",
     "text": [
      "total 11056\n",
      "-rw-r--r--  1 deshantm  staff   4.4M Feb 14  2012 bank-full.csv\n",
      "-rw-r--r--  1 deshantm  staff   3.8K Feb 14  2012 bank-names.txt\n",
      "-rw-r--r--  1 deshantm  staff   451K Feb 14  2012 bank.csv\n",
      "-rw-r--r--  1 deshantm  staff   565K Jan 14 15:57 bank.zip\n"
     ]
    }
   ],
   "source": [
    "ls -lh ../dat"
   ]
  },
  {
   "cell_type": "markdown",
   "metadata": {},
   "source": [
    "3. Inspect the dataset and note if there is anything to be aware of in the dataset structure. "
   ]
  },
  {
   "cell_type": "code",
   "execution_count": 8,
   "metadata": {
    "colab": {
     "base_uri": "https://localhost:8080/"
    },
    "id": "bsKTEA_kJm1Z",
    "outputId": "cc90db82-213d-4362-c8c2-38ab9373abbf"
   },
   "outputs": [
    {
     "name": "stdout",
     "output_type": "stream",
     "text": [
      "    4522 ../dat/bank.csv\n"
     ]
    }
   ],
   "source": [
    "%%sh\n",
    "wc -l ../dat/bank.csv"
   ]
  },
  {
   "cell_type": "code",
   "execution_count": 9,
   "metadata": {
    "colab": {
     "base_uri": "https://localhost:8080/"
    },
    "id": "PUOdYkMKRrFf",
    "outputId": "61dd1ff6-8d43-4e2a-f04f-94b6bc3da874"
   },
   "outputs": [
    {
     "name": "stdout",
     "output_type": "stream",
     "text": [
      "\"age\";\"job\";\"marital\";\"education\";\"default\";\"balance\";\"housing\";\"loan\";\"contact\";\"day\";\"month\";\"duration\";\"campaign\";\"pdays\";\"previous\";\"poutcome\";\"y\"\n",
      "30;\"unemployed\";\"married\";\"primary\";\"no\";1787;\"no\";\"no\";\"cellular\";19;\"oct\";79;1;-1;0;\"unknown\";\"no\"\n",
      "33;\"services\";\"married\";\"secondary\";\"no\";4789;\"yes\";\"yes\";\"cellular\";11;\"may\";220;1;339;4;\"failure\";\"no\"\n",
      "35;\"management\";\"single\";\"tertiary\";\"no\";1350;\"yes\";\"no\";\"cellular\";16;\"apr\";185;1;330;1;\"failure\";\"no\"\n",
      "30;\"management\";\"married\";\"tertiary\";\"no\";1476;\"yes\";\"yes\";\"unknown\";3;\"jun\";199;4;-1;0;\"unknown\";\"no\"\n",
      "59;\"blue-collar\";\"married\";\"secondary\";\"no\";0;\"yes\";\"no\";\"unknown\";5;\"may\";226;1;-1;0;\"unknown\";\"no\"\n",
      "35;\"management\";\"single\";\"tertiary\";\"no\";747;\"no\";\"no\";\"cellular\";23;\"feb\";141;2;176;3;\"failure\";\"no\"\n",
      "36;\"self-employed\";\"married\";\"tertiary\";\"no\";307;\"yes\";\"no\";\"cellular\";14;\"may\";341;1;330;2;\"other\";\"no\"\n",
      "39;\"technician\";\"married\";\"secondary\";\"no\";147;\"yes\";\"no\";\"cellular\";6;\"may\";151;2;-1;0;\"unknown\";\"no\"\n",
      "41;\"entrepreneur\";\"married\";\"tertiary\";\"no\";221;\"yes\";\"no\";\"unknown\";14;\"may\";57;2;-1;0;\"unknown\";\"no\"\n"
     ]
    }
   ],
   "source": [
    "%%sh\n",
    "head ../dat/bank.csv"
   ]
  },
  {
   "cell_type": "markdown",
   "metadata": {
    "id": "1CLp_YaaNRvB"
   },
   "source": [
    "4. Create a Delta table for `bank.csv` (Why Delta Lake? Here's a read [here](https://medium.com/@databeans-blogs/delta-lake-the-data-engineers-missing-piece-part-1-ebab66a3f8c0?source) from a data engineer's perspective)\n",
    "\n",
    "    We first set up a Python project `ml-bank`, configure the SparkSession with the `configure_spark_with_delta_pip()` utility function in Delta Lake:"
   ]
  },
  {
   "cell_type": "code",
   "execution_count": 10,
   "metadata": {
    "id": "2VvPSH-2DVMy"
   },
   "outputs": [
    {
     "name": "stdout",
     "output_type": "stream",
     "text": [
      "23/01/20 12:00:45 WARN Utils: Your hostname, MacBook-Air.local resolves to a loopback address: 127.0.0.1; using 192.168.68.124 instead (on interface en0)\n",
      "23/01/20 12:00:45 WARN Utils: Set SPARK_LOCAL_IP if you need to bind to another address\n",
      ":: loading settings :: url = jar:file:/Users/deshantm/anaconda3/envs/py39_12/lib/python3.9/site-packages/pyspark/jars/ivy-2.5.0.jar!/org/apache/ivy/core/settings/ivysettings.xml\n"
     ]
    },
    {
     "name": "stderr",
     "output_type": "stream",
     "text": [
      "Ivy Default Cache set to: /Users/deshantm/.ivy2/cache\n",
      "The jars for the packages stored in: /Users/deshantm/.ivy2/jars\n",
      "io.delta#delta-core_2.12 added as a dependency\n",
      ":: resolving dependencies :: org.apache.spark#spark-submit-parent-55866fca-5e51-4317-a239-4a4f6c492a5f;1.0\n",
      "\tconfs: [default]\n",
      "\tfound io.delta#delta-core_2.12;2.2.0 in central\n",
      "\tfound io.delta#delta-storage;2.2.0 in central\n",
      "\tfound org.antlr#antlr4-runtime;4.8 in central\n",
      ":: resolution report :: resolve 539ms :: artifacts dl 14ms\n",
      "\t:: modules in use:\n",
      "\tio.delta#delta-core_2.12;2.2.0 from central in [default]\n",
      "\tio.delta#delta-storage;2.2.0 from central in [default]\n",
      "\torg.antlr#antlr4-runtime;4.8 from central in [default]\n",
      "\t---------------------------------------------------------------------\n",
      "\t|                  |            modules            ||   artifacts   |\n",
      "\t|       conf       | number| search|dwnlded|evicted|| number|dwnlded|\n",
      "\t---------------------------------------------------------------------\n",
      "\t|      default     |   3   |   0   |   0   |   0   ||   3   |   0   |\n",
      "\t---------------------------------------------------------------------\n",
      ":: retrieving :: org.apache.spark#spark-submit-parent-55866fca-5e51-4317-a239-4a4f6c492a5f\n",
      "\tconfs: [default]\n",
      "\t0 artifacts copied, 3 already retrieved (0kB/15ms)\n"
     ]
    },
    {
     "name": "stdout",
     "output_type": "stream",
     "text": [
      "23/01/20 12:00:47 WARN NativeCodeLoader: Unable to load native-hadoop library for your platform... using builtin-java classes where applicable\n"
     ]
    },
    {
     "name": "stderr",
     "output_type": "stream",
     "text": [
      "Setting default log level to \"WARN\".\n",
      "To adjust logging level use sc.setLogLevel(newLevel). For SparkR, use setLogLevel(newLevel).\n"
     ]
    }
   ],
   "source": [
    "import pyspark\n",
    "from delta import *\n",
    "\n",
    "builder = pyspark.sql.SparkSession.builder.appName(\"ml-bank\") \\\n",
    "  .config(\"spark.sql.extensions\", \"io.delta.sql.DeltaSparkSessionExtension\") \\\n",
    "  .config(\"spark.sql.catalog.spark_catalog\", \"org.apache.spark.sql.delta.catalog.DeltaCatalog\")\n",
    "\n",
    "spark = configure_spark_with_delta_pip(builder).getOrCreate()"
   ]
  },
  {
   "cell_type": "markdown",
   "metadata": {
    "id": "NaHADc7XPgTA"
   },
   "source": [
    "5. We define output formats and paths, you need to complete code to load the data from its source (since the delimiter of the file is semicolon, use [`spark.read.csv`](https://spark.apache.org/docs/latest/sql-data-sources-csv.html) that provides more flexibility) and write the data to its target (hint: [Create a table](https://docs.databricks.com/delta/delta-batch.html)).\n",
    "\n",
    "\n",
    "__NOTE__ Databricks requires all the paths to be absolute, not relative. To check the absolute path, run `pwd` bash command."
   ]
  },
  {
   "cell_type": "code",
   "execution_count": 11,
   "metadata": {},
   "outputs": [
    {
     "name": "stderr",
     "output_type": "stream",
     "text": [
      "                                                                                \r"
     ]
    },
    {
     "name": "stdout",
     "output_type": "stream",
     "text": [
      "root\n",
      " |-- age: integer (nullable = true)\n",
      " |-- job: string (nullable = true)\n",
      " |-- marital: string (nullable = true)\n",
      " |-- education: string (nullable = true)\n",
      " |-- default: string (nullable = true)\n",
      " |-- balance: integer (nullable = true)\n",
      " |-- housing: string (nullable = true)\n",
      " |-- loan: string (nullable = true)\n",
      " |-- contact: string (nullable = true)\n",
      " |-- day: integer (nullable = true)\n",
      " |-- month: string (nullable = true)\n",
      " |-- duration: integer (nullable = true)\n",
      " |-- campaign: integer (nullable = true)\n",
      " |-- pdays: integer (nullable = true)\n",
      " |-- previous: integer (nullable = true)\n",
      " |-- poutcome: string (nullable = true)\n",
      " |-- y: string (nullable = true)\n",
      "\n",
      "23/01/20 12:02:04 WARN package: Truncated the string representation of a plan since it was too large. This behavior can be adjusted by setting 'spark.sql.debug.maxToStringFields'.\n"
     ]
    },
    {
     "name": "stderr",
     "output_type": "stream",
     "text": [
      "                                                                                \r"
     ]
    }
   ],
   "source": [
    "# Define the input and output formats and paths and the table name.\n",
    "write_format = 'delta'\n",
    "#load_path = 'file:/databricks/driver/bank.csv'\n",
    "load_path = 'file:/Users/deshantm/fourthbrain/Todd-MLE-11/assignments/week-05-big-data/dat/bank.csv'\n",
    "save_path = 'file:/Users/deshantm/fourthbrain/Todd-MLE-11/assignments/week-05-big-data'\n",
    "table_name = 'default.bank4k'\n",
    "\n",
    "# Load the data from its source into a dataframe.\n",
    "#read format with ; as delimiter\n",
    "df = spark.read.format('csv').option('header', 'true').option('delimiter', ';').option('inferSchema', 'true').load(load_path)\n",
    "#df = spark.read.format('csv').option('header', 'true').load(load_path)\n",
    "df.printSchema()\n",
    "\n",
    "#run the following \n",
    "#ALTER TABLE <table_name> SET TBLPROPERTIES (\n",
    "#   'delta.columnMapping.mode' = 'name',\n",
    "#   'delta.minReaderVersion' = '2',\n",
    "#   'delta.minWriterVersion' = '5')\n",
    "#alter table bank4k set tblproperties ('delta.minReaderVersion' = '2', 'delta.minWriterVersion' = '5')\n",
    "spark.sql(\"DROP TABLE IF EXISTS bank4k\")\n",
    "#spark.sql(\"CREATE TABLE bank4k USING delta LOCATION '/Users/deshantm/fourthbrain/Todd-MLE-11/assignments/week-05-big-data/bank4k'\")\n",
    "#spark.sql(\"ALTER TABLE bank4k SET TBLPROPERTIES ('delta.minReaderVersion' = '2', 'delta.minWriterVersion' = '5')\")\n",
    "\n",
    "# Create table with path using DataFrame's schema and write data to it\n",
    "df.write.format(write_format).mode('overwrite').option(\"overwriteSchema\", \"true\").save(table_name)\n",
    "# Note if you are overwriting to specificy overwrite option\n"
   ]
  },
  {
   "cell_type": "markdown",
   "metadata": {
    "id": "xSPA8U_WUr8s"
   },
   "source": [
    "6. Verify what we just created."
   ]
  },
  {
   "cell_type": "code",
   "execution_count": 14,
   "metadata": {
    "colab": {
     "base_uri": "https://localhost:8080/"
    },
    "id": "1jqA0JktUqg8",
    "outputId": "2dfea55f-a85f-4348-c55e-b1456e5b3cda"
   },
   "outputs": [
    {
     "name": "stdout",
     "output_type": "stream",
     "text": [
      "total 480\n",
      "drwxr-xr-x  18 deshantm  staff   576B Jan 20 12:02 \u001b[34m_delta_log\u001b[m\u001b[m\n",
      "drwxr-xr-x  10 deshantm  staff   320B Jan 15 19:03 \u001b[34mjob=admin.\u001b[m\u001b[m\n",
      "drwxr-xr-x  10 deshantm  staff   320B Jan 15 19:03 \u001b[34mjob=blue-collar\u001b[m\u001b[m\n",
      "drwxr-xr-x  10 deshantm  staff   320B Jan 15 19:03 \u001b[34mjob=entrepreneur\u001b[m\u001b[m\n",
      "drwxr-xr-x  10 deshantm  staff   320B Jan 15 19:03 \u001b[34mjob=housemaid\u001b[m\u001b[m\n",
      "drwxr-xr-x  10 deshantm  staff   320B Jan 15 19:03 \u001b[34mjob=management\u001b[m\u001b[m\n",
      "drwxr-xr-x  10 deshantm  staff   320B Jan 15 19:03 \u001b[34mjob=retired\u001b[m\u001b[m\n",
      "drwxr-xr-x  10 deshantm  staff   320B Jan 15 19:03 \u001b[34mjob=self-employed\u001b[m\u001b[m\n",
      "drwxr-xr-x  10 deshantm  staff   320B Jan 15 19:03 \u001b[34mjob=services\u001b[m\u001b[m\n",
      "drwxr-xr-x  10 deshantm  staff   320B Jan 15 19:03 \u001b[34mjob=student\u001b[m\u001b[m\n",
      "drwxr-xr-x  10 deshantm  staff   320B Jan 15 19:03 \u001b[34mjob=technician\u001b[m\u001b[m\n",
      "drwxr-xr-x  10 deshantm  staff   320B Jan 15 19:03 \u001b[34mjob=unemployed\u001b[m\u001b[m\n",
      "drwxr-xr-x  10 deshantm  staff   320B Jan 15 19:03 \u001b[34mjob=unknown\u001b[m\u001b[m\n",
      "-rw-r--r--   1 deshantm  staff    57K Jan 15 19:02 part-00000-0a80d770-a315-413b-8480-da4b088bdfe5-c000.snappy.parquet\n",
      "-rw-r--r--   1 deshantm  staff    58K Jan 14 18:02 part-00000-696c2cee-3c62-4b54-b2ce-bdc72e3f055f-c000.snappy.parquet\n",
      "-rw-r--r--   1 deshantm  staff    58K Jan 14 16:56 part-00000-769286d3-51ee-4b14-8382-140c139d914c-c000.snappy.parquet\n",
      "-rw-r--r--   1 deshantm  staff    57K Jan 20 12:02 part-00000-84bbf858-9f56-4201-a980-d1580a4e44e6-c000.snappy.parquet\n",
      "\n",
      "/Users/deshantm/fourthbrain/Todd-MLE-11/assignments/week-05-big-data/nb/default.bank4k/_delta_log:\n",
      "total 192\n",
      "-rw-r--r--  1 deshantm  staff   3.0K Jan 14 16:56 00000000000000000000.json\n",
      "-rw-r--r--  1 deshantm  staff    15K Jan 14 17:11 00000000000000000001.json\n",
      "-rw-r--r--  1 deshantm  staff   5.7K Jan 14 18:02 00000000000000000002.json\n",
      "-rw-r--r--  1 deshantm  staff    15K Jan 14 18:33 00000000000000000003.json\n",
      "-rw-r--r--  1 deshantm  staff    16K Jan 15 18:48 00000000000000000004.json\n",
      "-rw-r--r--  1 deshantm  staff   5.7K Jan 15 19:02 00000000000000000005.json\n",
      "-rw-r--r--  1 deshantm  staff    15K Jan 15 19:03 00000000000000000006.json\n",
      "-rw-r--r--  1 deshantm  staff   5.7K Jan 20 12:02 00000000000000000007.json\n",
      "\n",
      "/Users/deshantm/fourthbrain/Todd-MLE-11/assignments/week-05-big-data/nb/default.bank4k/job=admin.:\n",
      "total 96\n",
      "-rw-r--r--  1 deshantm  staff    11K Jan 15 19:03 part-00000-4197f3c3-db23-451a-8cf2-7717adf81083.c000.snappy.parquet\n",
      "-rw-r--r--  1 deshantm  staff    12K Jan 14 18:33 part-00000-ef4802ba-7978-4697-8225-c5ccc7af4326.c000.snappy.parquet\n",
      "-rw-r--r--  1 deshantm  staff    12K Jan 14 17:11 part-00000-fef9016a-66e4-4a8f-8c16-99a177f718b7.c000.snappy.parquet\n",
      "-rw-r--r--  1 deshantm  staff    12K Jan 15 18:48 part-00001-1ae09aa3-e9a3-4908-aa1c-8c43ecafabb2.c000.snappy.parquet\n",
      "\n",
      "/Users/deshantm/fourthbrain/Todd-MLE-11/assignments/week-05-big-data/nb/default.bank4k/job=blue-collar:\n",
      "total 160\n",
      "-rw-r--r--  1 deshantm  staff    18K Jan 14 17:11 part-00000-166bf045-50e0-4407-928b-db3752a93886.c000.snappy.parquet\n",
      "-rw-r--r--  1 deshantm  staff    16K Jan 15 19:03 part-00000-22b45900-1ac4-4c29-bef6-30efad63291f.c000.snappy.parquet\n",
      "-rw-r--r--  1 deshantm  staff    18K Jan 15 18:48 part-00000-57b872c8-c9e2-47a4-967e-9f8dc663508c.c000.snappy.parquet\n",
      "-rw-r--r--  1 deshantm  staff    18K Jan 14 18:33 part-00000-7118700f-b359-4f7e-9ac5-7d223d08bb13.c000.snappy.parquet\n",
      "\n",
      "/Users/deshantm/fourthbrain/Todd-MLE-11/assignments/week-05-big-data/nb/default.bank4k/job=entrepreneur:\n",
      "total 64\n",
      "-rw-r--r--  1 deshantm  staff   7.2K Jan 14 17:11 part-00000-3a7b5784-f340-4080-8d7f-61906e1b5d29.c000.snappy.parquet\n",
      "-rw-r--r--  1 deshantm  staff   7.2K Jan 14 18:33 part-00000-5607243a-3dce-4f50-91c0-b48c4e814041.c000.snappy.parquet\n",
      "-rw-r--r--  1 deshantm  staff   7.0K Jan 15 19:03 part-00000-ad6f8331-16ee-4510-a92c-ebe35861cfcc.c000.snappy.parquet\n",
      "-rw-r--r--  1 deshantm  staff   7.2K Jan 15 18:48 part-00002-63da39f6-a8e8-486c-96db-05f395a1f607.c000.snappy.parquet\n",
      "\n",
      "/Users/deshantm/fourthbrain/Todd-MLE-11/assignments/week-05-big-data/nb/default.bank4k/job=housemaid:\n",
      "total 64\n",
      "-rw-r--r--  1 deshantm  staff   6.5K Jan 14 17:11 part-00000-4f92a949-7b5b-4ed4-906e-a0ecf1c4b10a.c000.snappy.parquet\n",
      "-rw-r--r--  1 deshantm  staff   6.5K Jan 14 18:33 part-00000-75c1141e-80a4-401e-ab98-d308f9b7c451.c000.snappy.parquet\n",
      "-rw-r--r--  1 deshantm  staff   6.3K Jan 15 19:03 part-00000-86f95f81-c144-4e30-9058-3dc4764e804e.c000.snappy.parquet\n",
      "-rw-r--r--  1 deshantm  staff   6.5K Jan 15 18:48 part-00002-e48e5af3-81d4-4006-8f3c-96cb434f8692.c000.snappy.parquet\n",
      "\n",
      "/Users/deshantm/fourthbrain/Todd-MLE-11/assignments/week-05-big-data/nb/default.bank4k/job=management:\n",
      "total 160\n",
      "-rw-r--r--  1 deshantm  staff    18K Jan 14 18:33 part-00000-21e17a49-9b8e-48b4-857a-7cc69228fb10.c000.snappy.parquet\n",
      "-rw-r--r--  1 deshantm  staff    18K Jan 15 18:48 part-00000-317cb3c8-9b29-4d73-b60f-ed6a897e9ed9.c000.snappy.parquet\n",
      "-rw-r--r--  1 deshantm  staff    18K Jan 14 17:11 part-00000-5def3524-3dda-4f0c-8913-111ad7830852.c000.snappy.parquet\n",
      "-rw-r--r--  1 deshantm  staff    17K Jan 15 19:03 part-00000-620701a4-fd4d-485e-a22f-99103b095c0f.c000.snappy.parquet\n",
      "\n",
      "/Users/deshantm/fourthbrain/Todd-MLE-11/assignments/week-05-big-data/nb/default.bank4k/job=retired:\n",
      "total 88\n",
      "-rw-r--r--  1 deshantm  staff   8.4K Jan 14 18:33 part-00000-21e5587a-5d1c-456d-bc9f-318b72fca9fc.c000.snappy.parquet\n",
      "-rw-r--r--  1 deshantm  staff   8.4K Jan 14 17:11 part-00000-a2618e05-566b-4bc8-8f98-6b4ff9feb780.c000.snappy.parquet\n",
      "-rw-r--r--  1 deshantm  staff   7.9K Jan 15 19:03 part-00000-c8630053-0582-4e9b-ae32-f2953b872ef8.c000.snappy.parquet\n",
      "-rw-r--r--  1 deshantm  staff   8.4K Jan 15 18:48 part-00001-be369a22-3a27-4683-9035-a22eab892b65.c000.snappy.parquet\n",
      "\n",
      "/Users/deshantm/fourthbrain/Todd-MLE-11/assignments/week-05-big-data/nb/default.bank4k/job=self-employed:\n",
      "total 64\n",
      "-rw-r--r--  1 deshantm  staff   7.5K Jan 14 18:33 part-00000-c1b6453e-5f1d-4060-a8b9-be8aa7e287cb.c000.snappy.parquet\n",
      "-rw-r--r--  1 deshantm  staff   7.3K Jan 15 19:03 part-00000-e64624f6-cb52-4f5b-a65a-bb44a0472c26.c000.snappy.parquet\n",
      "-rw-r--r--  1 deshantm  staff   7.5K Jan 14 17:11 part-00000-ff9bf01f-d3d3-4753-9193-1e21f696bdf5.c000.snappy.parquet\n",
      "-rw-r--r--  1 deshantm  staff   7.5K Jan 15 18:48 part-00002-ec964615-7a22-46c8-be94-6feac3fa7533.c000.snappy.parquet\n",
      "\n",
      "/Users/deshantm/fourthbrain/Todd-MLE-11/assignments/week-05-big-data/nb/default.bank4k/job=services:\n",
      "total 96\n",
      "-rw-r--r--  1 deshantm  staff    11K Jan 14 17:11 part-00000-4e5a1c54-9657-4152-94fc-cc46de52cd40.c000.snappy.parquet\n",
      "-rw-r--r--  1 deshantm  staff    10K Jan 15 19:03 part-00000-d2692c58-1434-4e6c-b120-1c3c3051f4ca.c000.snappy.parquet\n",
      "-rw-r--r--  1 deshantm  staff    11K Jan 14 18:33 part-00000-d2b5378c-d3d3-4161-91b3-9fb27b6c2820.c000.snappy.parquet\n",
      "-rw-r--r--  1 deshantm  staff    11K Jan 15 18:48 part-00001-755b683f-3b9a-4838-b472-cd081301da41.c000.snappy.parquet\n",
      "\n",
      "/Users/deshantm/fourthbrain/Todd-MLE-11/assignments/week-05-big-data/nb/default.bank4k/job=student:\n",
      "total 64\n",
      "-rw-r--r--  1 deshantm  staff   6.1K Jan 14 18:33 part-00000-0274ff02-6254-49cf-8b55-d472b9467bcd.c000.snappy.parquet\n",
      "-rw-r--r--  1 deshantm  staff   5.9K Jan 15 19:03 part-00000-5b27e23c-dfa7-4911-af51-b1417629e0e8.c000.snappy.parquet\n",
      "-rw-r--r--  1 deshantm  staff   6.1K Jan 14 17:11 part-00000-8f1d44ae-e4da-4f6c-8030-a9035f0999f1.c000.snappy.parquet\n",
      "-rw-r--r--  1 deshantm  staff   6.1K Jan 15 18:48 part-00003-10e61952-d09f-4042-9689-15a4e5abcda2.c000.snappy.parquet\n",
      "\n",
      "/Users/deshantm/fourthbrain/Todd-MLE-11/assignments/week-05-big-data/nb/default.bank4k/job=technician:\n",
      "total 128\n",
      "-rw-r--r--  1 deshantm  staff    14K Jan 15 19:03 part-00000-6272616c-bd20-4aec-9bbd-c4e77d3743e7.c000.snappy.parquet\n",
      "-rw-r--r--  1 deshantm  staff    15K Jan 14 17:11 part-00000-6c0fc319-7dba-4b07-89f9-2f25cd3e63d8.c000.snappy.parquet\n",
      "-rw-r--r--  1 deshantm  staff    15K Jan 14 18:33 part-00000-87499d05-fd60-4e2b-8970-c8134ca61453.c000.snappy.parquet\n",
      "-rw-r--r--  1 deshantm  staff    15K Jan 15 18:48 part-00000-da4153ad-0eff-473e-bf8e-08ad1a1e1fef.c000.snappy.parquet\n",
      "\n",
      "/Users/deshantm/fourthbrain/Todd-MLE-11/assignments/week-05-big-data/nb/default.bank4k/job=unemployed:\n",
      "total 64\n",
      "-rw-r--r--  1 deshantm  staff   6.5K Jan 15 19:03 part-00000-009bb4e5-cd98-4c4c-a5a2-0e2fd67cb207.c000.snappy.parquet\n",
      "-rw-r--r--  1 deshantm  staff   6.7K Jan 14 17:11 part-00000-5143d997-1112-4352-8a2f-af0901c98787.c000.snappy.parquet\n",
      "-rw-r--r--  1 deshantm  staff   6.7K Jan 14 18:33 part-00000-bcd4ee9e-e195-40fc-a66c-700c95f190bc.c000.snappy.parquet\n",
      "-rw-r--r--  1 deshantm  staff   6.7K Jan 15 18:48 part-00002-9c268881-3d01-41d2-bd44-2e19332f2ae1.c000.snappy.parquet\n",
      "\n",
      "/Users/deshantm/fourthbrain/Todd-MLE-11/assignments/week-05-big-data/nb/default.bank4k/job=unknown:\n",
      "total 64\n",
      "-rw-r--r--  1 deshantm  staff   5.2K Jan 15 19:03 part-00000-09ba1064-ab7d-4d30-9e3f-866b6f951e75.c000.snappy.parquet\n",
      "-rw-r--r--  1 deshantm  staff   5.2K Jan 14 18:33 part-00000-28ffd6b7-1249-47f8-9d28-acbe40d3408e.c000.snappy.parquet\n",
      "-rw-r--r--  1 deshantm  staff   5.2K Jan 14 17:11 part-00000-766a0a54-0fad-4ba3-9006-07bfa00a555e.c000.snappy.parquet\n",
      "-rw-r--r--  1 deshantm  staff   5.2K Jan 15 18:48 part-00003-1eaa469b-b038-4aa2-8de5-ac9e8b2f4b80.c000.snappy.parquet\n"
     ]
    }
   ],
   "source": [
    "!ls -lhR /Users/deshantm/fourthbrain/Todd-MLE-11/assignments/week-05-big-data/nb/default.bank4k"
   ]
  },
  {
   "cell_type": "markdown",
   "metadata": {
    "id": "tz2noJLho8ME"
   },
   "source": [
    "7. Partition data by `job` status. \n",
    "\n",
    "  To speed up queries that have predicates involving the partition columns, we should partition data. Often time, we partition by anonymized user id; here we demonstrate the idea with `job`.\n",
    "\n",
    "__NOTE__ We saw previously that the data can be loaded in Delta lake as one table. Now to partition the data, we need to remove the existing directory, or load it into a different directoty. The goal is to showcase delta lake capabilities. "
   ]
  },
  {
   "cell_type": "code",
   "execution_count": 15,
   "metadata": {
    "id": "hJCHS1OxnoUu"
   },
   "outputs": [],
   "source": [
    "import shutil\n",
    "shutil.rmtree('/Users/deshantm/fourthbrain/Todd-MLE-11/assignments/week-05-big-data/nb/default.bank4k') # To replace data, we need to remove the existing directory"
   ]
  },
  {
   "cell_type": "code",
   "execution_count": 16,
   "metadata": {},
   "outputs": [
    {
     "name": "stderr",
     "output_type": "stream",
     "text": [
      "                                                                                \r"
     ]
    }
   ],
   "source": [
    "partition_by = 'job'\n",
    "\n",
    "#write to target with partition by job\n",
    "df.write.format(write_format).mode('overwrite').option(\"overwriteSchema\", \"true\").partitionBy(partition_by).save(table_name)"
   ]
  },
  {
   "cell_type": "code",
   "execution_count": 17,
   "metadata": {
    "colab": {
     "base_uri": "https://localhost:8080/"
    },
    "id": "3N57HCGCoA6Y",
    "outputId": "6e0e381f-4c10-4f1c-87f3-6edc442a6b08"
   },
   "outputs": [
    {
     "name": "stdout",
     "output_type": "stream",
     "text": [
      "total 0\n",
      "drwxr-xr-x  4 deshantm  staff   128B Jan 20 12:04 \u001b[34m_delta_log\u001b[m\u001b[m/\n",
      "drwxr-xr-x  4 deshantm  staff   128B Jan 20 12:04 \u001b[34mjob=admin.\u001b[m\u001b[m/\n",
      "drwxr-xr-x  4 deshantm  staff   128B Jan 20 12:04 \u001b[34mjob=blue-collar\u001b[m\u001b[m/\n",
      "drwxr-xr-x  4 deshantm  staff   128B Jan 20 12:04 \u001b[34mjob=entrepreneur\u001b[m\u001b[m/\n",
      "drwxr-xr-x  4 deshantm  staff   128B Jan 20 12:04 \u001b[34mjob=housemaid\u001b[m\u001b[m/\n",
      "drwxr-xr-x  4 deshantm  staff   128B Jan 20 12:04 \u001b[34mjob=management\u001b[m\u001b[m/\n",
      "drwxr-xr-x  4 deshantm  staff   128B Jan 20 12:04 \u001b[34mjob=retired\u001b[m\u001b[m/\n",
      "drwxr-xr-x  4 deshantm  staff   128B Jan 20 12:04 \u001b[34mjob=self-employed\u001b[m\u001b[m/\n",
      "drwxr-xr-x  4 deshantm  staff   128B Jan 20 12:04 \u001b[34mjob=services\u001b[m\u001b[m/\n",
      "drwxr-xr-x  4 deshantm  staff   128B Jan 20 12:04 \u001b[34mjob=student\u001b[m\u001b[m/\n",
      "drwxr-xr-x  4 deshantm  staff   128B Jan 20 12:04 \u001b[34mjob=technician\u001b[m\u001b[m/\n",
      "drwxr-xr-x  4 deshantm  staff   128B Jan 20 12:04 \u001b[34mjob=unemployed\u001b[m\u001b[m/\n",
      "drwxr-xr-x  4 deshantm  staff   128B Jan 20 12:04 \u001b[34mjob=unknown\u001b[m\u001b[m/\n"
     ]
    }
   ],
   "source": [
    "ls -lh /Users/deshantm/fourthbrain/Todd-MLE-11/assignments/week-05-big-data/nb/default.bank4k"
   ]
  },
  {
   "cell_type": "markdown",
   "metadata": {
    "id": "LFRWT4qobDCw"
   },
   "source": [
    "  We only touch the surface of Delta Lake, for more information, check [Delta Lake guide](https://docs.databricks.com/delta/index.html)"
   ]
  },
  {
   "cell_type": "markdown",
   "metadata": {
    "application/vnd.databricks.v1+cell": {
     "inputWidgets": {},
     "nuid": "9e212db6-6e87-468b-abd7-15a720ff8b96",
     "showTitle": false,
     "title": ""
    },
    "id": "d6e3Lpd8606A"
   },
   "source": [
    "## Part 2: Exploring The Data\n",
    "\n",
    "We will use the direct marketing campaigns (phone calls) of a Portuguese banking institution. The classification goal is to predict whether the client will subscribe (Yes/No) to a term deposit.\n"
   ]
  },
  {
   "cell_type": "markdown",
   "metadata": {
    "id": "ySKvPhY8ZOQx"
   },
   "source": [
    "1. Load data from its source by specifying the data format and path; then check out the schemas."
   ]
  },
  {
   "cell_type": "code",
   "execution_count": 18,
   "metadata": {
    "application/vnd.databricks.v1+cell": {
     "inputWidgets": {},
     "nuid": "24bcf95a-d1ca-497c-9243-b0ab5556c6c4",
     "showTitle": false,
     "title": ""
    },
    "colab": {
     "base_uri": "https://localhost:8080/"
    },
    "id": "GVLwrGAN606A",
    "outputId": "97781c0e-cea0-4476-a2b7-12e294da3113"
   },
   "outputs": [
    {
     "name": "stdout",
     "output_type": "stream",
     "text": [
      "root\n",
      " |-- age: integer (nullable = true)\n",
      " |-- job: string (nullable = true)\n",
      " |-- marital: string (nullable = true)\n",
      " |-- education: string (nullable = true)\n",
      " |-- default: string (nullable = true)\n",
      " |-- balance: integer (nullable = true)\n",
      " |-- housing: string (nullable = true)\n",
      " |-- loan: string (nullable = true)\n",
      " |-- contact: string (nullable = true)\n",
      " |-- day: integer (nullable = true)\n",
      " |-- month: string (nullable = true)\n",
      " |-- duration: integer (nullable = true)\n",
      " |-- campaign: integer (nullable = true)\n",
      " |-- pdays: integer (nullable = true)\n",
      " |-- previous: integer (nullable = true)\n",
      " |-- poutcome: string (nullable = true)\n",
      " |-- y: string (nullable = true)\n",
      "\n"
     ]
    }
   ],
   "source": [
    "read_format = 'delta'\n",
    "load_path = '/Users/deshantm/fourthbrain/Todd-MLE-11/assignments/week-05-big-data/nb/default.bank4k'\n",
    "\n",
    "df = spark.read.format(read_format).options(inferSchema=True).load(load_path)\n",
    "df.printSchema()"
   ]
  },
  {
   "cell_type": "markdown",
   "metadata": {
    "application/vnd.databricks.v1+cell": {
     "inputWidgets": {},
     "nuid": "08b5bb73-fc91-4240-a31c-036605467e8f",
     "showTitle": false,
     "title": ""
    },
    "id": "Aiqk3hQO606B"
   },
   "source": [
    "Here are the columns you should see:\n",
    "\n",
    "* Input variables: age, job, marital, education, default, balance, housing, loan, contact, day, month, duration, campaign, pdays, previous, poutcome\n",
    "\n",
    "* Output variable: y (deposit)\n",
    "\n",
    "2. Have a peek of the first five observations. Use the `.show()` method."
   ]
  },
  {
   "cell_type": "code",
   "execution_count": 19,
   "metadata": {
    "colab": {
     "base_uri": "https://localhost:8080/"
    },
    "id": "CWPoxTh7606B",
    "outputId": "3287ef72-969f-463f-b922-46ed3d95dd46"
   },
   "outputs": [
    {
     "name": "stderr",
     "output_type": "stream",
     "text": [
      "                                                                                \r"
     ]
    },
    {
     "name": "stdout",
     "output_type": "stream",
     "text": [
      "+---+--------+-------+---------+-------+-------+-------+----+--------+---+-----+--------+--------+-----+--------+--------+---+\n",
      "|age|     job|marital|education|default|balance|housing|loan| contact|day|month|duration|campaign|pdays|previous|poutcome|  y|\n",
      "+---+--------+-------+---------+-------+-------+-------+----+--------+---+-----+--------+--------+-----+--------+--------+---+\n",
      "| 33|services|married|secondary|     no|   4789|    yes| yes|cellular| 11|  may|     220|       1|  339|       4| failure| no|\n",
      "| 43|services|married|  primary|     no|    -88|    yes| yes|cellular| 17|  apr|     313|       1|  147|       2| failure| no|\n",
      "| 39|services|married|secondary|     no|   9374|    yes|  no| unknown| 20|  may|     273|       1|   -1|       0| unknown| no|\n",
      "| 31|services|married|secondary|     no|    132|     no|  no|cellular|  7|  jul|     148|       1|  152|       1|   other| no|\n",
      "| 44|services| single|secondary|     no|    106|     no|  no| unknown| 12|  jun|     109|       2|   -1|       0| unknown| no|\n",
      "+---+--------+-------+---------+-------+-------+-------+----+--------+---+-----+--------+--------+-----+--------+--------+---+\n",
      "only showing top 5 rows\n",
      "\n"
     ]
    }
   ],
   "source": [
    "#use show to peek at first five observations\n",
    "df.show(5)"
   ]
  },
  {
   "cell_type": "markdown",
   "metadata": {
    "id": "mOITLLCvG4Sb"
   },
   "source": [
    "To get a prettier result, it can be nice to use Pandas to display our DataFrame. Use the Spark `.take()` method to get the first 5 rows and then convert to a pandas DataFrame. Don't forget to pass along the column names. You should see the same result as above, but in a more aesthetically appealing format."
   ]
  },
  {
   "cell_type": "code",
   "execution_count": 20,
   "metadata": {
    "colab": {
     "base_uri": "https://localhost:8080/",
     "height": 201
    },
    "id": "VRenwPrOGz0D",
    "outputId": "3502ad2b-5d95-4f5c-b80c-e2e1fa68417b"
   },
   "outputs": [
    {
     "data": {
      "text/plain": [
       "<bound method NDFrame.head of    age       job  marital  education default  balance housing loan   contact  \\\n",
       "0   33  services  married  secondary      no     4789     yes  yes  cellular   \n",
       "1   43  services  married    primary      no      -88     yes  yes  cellular   \n",
       "2   39  services  married  secondary      no     9374     yes   no   unknown   \n",
       "3   31  services  married  secondary      no      132      no   no  cellular   \n",
       "4   44  services   single  secondary      no      106      no   no   unknown   \n",
       "\n",
       "   day month  duration  campaign  pdays  previous poutcome   y  \n",
       "0   11   may       220         1    339         4  failure  no  \n",
       "1   17   apr       313         1    147         2  failure  no  \n",
       "2   20   may       273         1     -1         0  unknown  no  \n",
       "3    7   jul       148         1    152         1    other  no  \n",
       "4   12   jun       109         2     -1         0  unknown  no  >"
      ]
     },
     "execution_count": 20,
     "metadata": {},
     "output_type": "execute_result"
    }
   ],
   "source": [
    "import pandas as pd\n",
    "df_take = pd.DataFrame(df.take(5), columns=df.columns)\n",
    "df_take.head\n",
    "\n",
    "\n"
   ]
  },
  {
   "cell_type": "markdown",
   "metadata": {
    "id": "1uKOs_Ka606B"
   },
   "source": [
    "3. We can also perform transformations on our DataFrame using the Pandas commands that we know and love using the [Pandas on Spark API](https://spark.apache.org/docs/latest/api/python/user_guide/pandas_on_spark/index.html) **(new on Spark versions >= 3.2)**.  Pandas on Spark API was born out of the Databricks project, Koalas 🐨, allows us to use the Pandas commands and aesthetically pleasing output that we know and love distributed on the speed and scale of Spark!  For a nice quickstart on Pandas on Spark, check out this [article](https://towardsdatascience.com/run-pandas-as-fast-as-spark-f5eefe780c45)!  Let's convert our Spark DataFrame to a Pandas on Spark DataFrame!"
   ]
  },
  {
   "cell_type": "code",
   "execution_count": 21,
   "metadata": {
    "application/vnd.databricks.v1+cell": {
     "inputWidgets": {},
     "nuid": "9abd6308-77f0-420b-a80a-03ef2928c963",
     "showTitle": false,
     "title": ""
    },
    "colab": {
     "base_uri": "https://localhost:8080/",
     "height": 237
    },
    "id": "p7G6371u606C",
    "outputId": "9a07865b-02c9-4c7f-a89e-c15b0265e6f4"
   },
   "outputs": [
    {
     "name": "stderr",
     "output_type": "stream",
     "text": [
      "WARNING:root:'PYARROW_IGNORE_TIMEZONE' environment variable was not set. It is required to set this environment variable to '1' in both driver and executor sides if you use pyarrow>=2.0.0. pandas-on-Spark will set it for you but it does not work if there is a Spark context already launched.\n"
     ]
    },
    {
     "data": {
      "text/html": [
       "<div>\n",
       "<style scoped>\n",
       "    .dataframe tbody tr th:only-of-type {\n",
       "        vertical-align: middle;\n",
       "    }\n",
       "\n",
       "    .dataframe tbody tr th {\n",
       "        vertical-align: top;\n",
       "    }\n",
       "\n",
       "    .dataframe thead th {\n",
       "        text-align: right;\n",
       "    }\n",
       "</style>\n",
       "<table border=\"1\" class=\"dataframe\">\n",
       "  <thead>\n",
       "    <tr style=\"text-align: right;\">\n",
       "      <th></th>\n",
       "      <th>age</th>\n",
       "      <th>job</th>\n",
       "      <th>marital</th>\n",
       "      <th>education</th>\n",
       "      <th>default</th>\n",
       "      <th>balance</th>\n",
       "      <th>housing</th>\n",
       "      <th>loan</th>\n",
       "      <th>contact</th>\n",
       "      <th>day</th>\n",
       "      <th>month</th>\n",
       "      <th>duration</th>\n",
       "      <th>campaign</th>\n",
       "      <th>pdays</th>\n",
       "      <th>previous</th>\n",
       "      <th>poutcome</th>\n",
       "      <th>y</th>\n",
       "    </tr>\n",
       "  </thead>\n",
       "  <tbody>\n",
       "    <tr>\n",
       "      <th>0</th>\n",
       "      <td>35</td>\n",
       "      <td>management</td>\n",
       "      <td>single</td>\n",
       "      <td>tertiary</td>\n",
       "      <td>no</td>\n",
       "      <td>1350</td>\n",
       "      <td>yes</td>\n",
       "      <td>no</td>\n",
       "      <td>cellular</td>\n",
       "      <td>16</td>\n",
       "      <td>apr</td>\n",
       "      <td>185</td>\n",
       "      <td>1</td>\n",
       "      <td>330</td>\n",
       "      <td>1</td>\n",
       "      <td>failure</td>\n",
       "      <td>no</td>\n",
       "    </tr>\n",
       "    <tr>\n",
       "      <th>1</th>\n",
       "      <td>30</td>\n",
       "      <td>management</td>\n",
       "      <td>married</td>\n",
       "      <td>tertiary</td>\n",
       "      <td>no</td>\n",
       "      <td>1476</td>\n",
       "      <td>yes</td>\n",
       "      <td>yes</td>\n",
       "      <td>unknown</td>\n",
       "      <td>3</td>\n",
       "      <td>jun</td>\n",
       "      <td>199</td>\n",
       "      <td>4</td>\n",
       "      <td>-1</td>\n",
       "      <td>0</td>\n",
       "      <td>unknown</td>\n",
       "      <td>no</td>\n",
       "    </tr>\n",
       "    <tr>\n",
       "      <th>2</th>\n",
       "      <td>35</td>\n",
       "      <td>management</td>\n",
       "      <td>single</td>\n",
       "      <td>tertiary</td>\n",
       "      <td>no</td>\n",
       "      <td>747</td>\n",
       "      <td>no</td>\n",
       "      <td>no</td>\n",
       "      <td>cellular</td>\n",
       "      <td>23</td>\n",
       "      <td>feb</td>\n",
       "      <td>141</td>\n",
       "      <td>2</td>\n",
       "      <td>176</td>\n",
       "      <td>3</td>\n",
       "      <td>failure</td>\n",
       "      <td>no</td>\n",
       "    </tr>\n",
       "    <tr>\n",
       "      <th>3</th>\n",
       "      <td>40</td>\n",
       "      <td>management</td>\n",
       "      <td>married</td>\n",
       "      <td>tertiary</td>\n",
       "      <td>no</td>\n",
       "      <td>194</td>\n",
       "      <td>no</td>\n",
       "      <td>yes</td>\n",
       "      <td>cellular</td>\n",
       "      <td>29</td>\n",
       "      <td>aug</td>\n",
       "      <td>189</td>\n",
       "      <td>2</td>\n",
       "      <td>-1</td>\n",
       "      <td>0</td>\n",
       "      <td>unknown</td>\n",
       "      <td>no</td>\n",
       "    </tr>\n",
       "    <tr>\n",
       "      <th>4</th>\n",
       "      <td>38</td>\n",
       "      <td>management</td>\n",
       "      <td>divorced</td>\n",
       "      <td>unknown</td>\n",
       "      <td>no</td>\n",
       "      <td>0</td>\n",
       "      <td>yes</td>\n",
       "      <td>no</td>\n",
       "      <td>cellular</td>\n",
       "      <td>18</td>\n",
       "      <td>nov</td>\n",
       "      <td>96</td>\n",
       "      <td>2</td>\n",
       "      <td>-1</td>\n",
       "      <td>0</td>\n",
       "      <td>unknown</td>\n",
       "      <td>no</td>\n",
       "    </tr>\n",
       "  </tbody>\n",
       "</table>\n",
       "</div>"
      ],
      "text/plain": [
       "   age         job   marital education default  balance housing loan   contact  day month  duration  campaign  pdays  previous poutcome   y\n",
       "0   35  management    single  tertiary      no     1350     yes   no  cellular   16   apr       185         1    330         1  failure  no\n",
       "1   30  management   married  tertiary      no     1476     yes  yes   unknown    3   jun       199         4     -1         0  unknown  no\n",
       "2   35  management    single  tertiary      no      747      no   no  cellular   23   feb       141         2    176         3  failure  no\n",
       "3   40  management   married  tertiary      no      194      no  yes  cellular   29   aug       189         2     -1         0  unknown  no\n",
       "4   38  management  divorced   unknown      no        0     yes   no  cellular   18   nov        96         2     -1         0  unknown  no"
      ]
     },
     "execution_count": 21,
     "metadata": {},
     "output_type": "execute_result"
    }
   ],
   "source": [
    "import pyspark.pandas as ps\n",
    "\n",
    "psdf = df.pandas_api()\n",
    "psdf.head(5)"
   ]
  },
  {
   "cell_type": "markdown",
   "metadata": {
    "id": "UMK2KbvG606C"
   },
   "source": [
    "4. How many datapoints are there in the dataset? Use the `.count()` method."
   ]
  },
  {
   "cell_type": "code",
   "execution_count": 22,
   "metadata": {
    "application/vnd.databricks.v1+cell": {
     "inputWidgets": {},
     "nuid": "d2bccb04-2a21-4053-bac9-44db61d30a14",
     "showTitle": false,
     "title": ""
    },
    "colab": {
     "base_uri": "https://localhost:8080/"
    },
    "id": "CGCjBX-8606C",
    "outputId": "dbf49fd1-5cb4-458c-c7f8-188dd8d9ecb0"
   },
   "outputs": [
    {
     "name": "stderr",
     "output_type": "stream",
     "text": [
      "/Users/deshantm/anaconda3/envs/py39_12/lib/python3.9/site-packages/pyspark/pandas/internal.py:1573: FutureWarning: iteritems is deprecated and will be removed in a future version. Use .items instead.\n",
      "  fields = [\n",
      "/Users/deshantm/anaconda3/envs/py39_12/lib/python3.9/site-packages/pyspark/sql/pandas/conversion.py:486: FutureWarning: iteritems is deprecated and will be removed in a future version. Use .items instead.\n",
      "  for column, series in pdf.iteritems():\n",
      "                                                                                \r"
     ]
    },
    {
     "data": {
      "text/plain": [
       "age          4521\n",
       "job          4521\n",
       "marital      4521\n",
       "education    4521\n",
       "default      4521\n",
       "balance      4521\n",
       "housing      4521\n",
       "loan         4521\n",
       "contact      4521\n",
       "day          4521\n",
       "month        4521\n",
       "duration     4521\n",
       "campaign     4521\n",
       "pdays        4521\n",
       "previous     4521\n",
       "poutcome     4521\n",
       "y            4521\n",
       "dtype: int64"
      ]
     },
     "execution_count": 22,
     "metadata": {},
     "output_type": "execute_result"
    }
   ],
   "source": [
    "psdf.count()"
   ]
  },
  {
   "cell_type": "markdown",
   "metadata": {
    "id": "B6chyZha606D"
   },
   "source": [
    "5. Use the `.describe()` method to see summary statistics on the features."
   ]
  },
  {
   "cell_type": "code",
   "execution_count": 23,
   "metadata": {
    "colab": {
     "base_uri": "https://localhost:8080/",
     "height": 291
    },
    "id": "mpmp504K606D",
    "outputId": "97911142-6fb9-4ddc-f49c-363dfac124c4"
   },
   "outputs": [
    {
     "name": "stderr",
     "output_type": "stream",
     "text": [
      "                                                                                \r"
     ]
    },
    {
     "data": {
      "text/html": [
       "<div>\n",
       "<style scoped>\n",
       "    .dataframe tbody tr th:only-of-type {\n",
       "        vertical-align: middle;\n",
       "    }\n",
       "\n",
       "    .dataframe tbody tr th {\n",
       "        vertical-align: top;\n",
       "    }\n",
       "\n",
       "    .dataframe thead th {\n",
       "        text-align: right;\n",
       "    }\n",
       "</style>\n",
       "<table border=\"1\" class=\"dataframe\">\n",
       "  <thead>\n",
       "    <tr style=\"text-align: right;\">\n",
       "      <th></th>\n",
       "      <th>age</th>\n",
       "      <th>balance</th>\n",
       "      <th>day</th>\n",
       "      <th>duration</th>\n",
       "      <th>campaign</th>\n",
       "      <th>pdays</th>\n",
       "      <th>previous</th>\n",
       "    </tr>\n",
       "  </thead>\n",
       "  <tbody>\n",
       "    <tr>\n",
       "      <th>count</th>\n",
       "      <td>4521.000000</td>\n",
       "      <td>4521.000000</td>\n",
       "      <td>4521.000000</td>\n",
       "      <td>4521.000000</td>\n",
       "      <td>4521.000000</td>\n",
       "      <td>4521.000000</td>\n",
       "      <td>4521.000000</td>\n",
       "    </tr>\n",
       "    <tr>\n",
       "      <th>mean</th>\n",
       "      <td>41.170095</td>\n",
       "      <td>1422.657819</td>\n",
       "      <td>15.915284</td>\n",
       "      <td>263.961292</td>\n",
       "      <td>2.793630</td>\n",
       "      <td>39.766645</td>\n",
       "      <td>0.542579</td>\n",
       "    </tr>\n",
       "    <tr>\n",
       "      <th>std</th>\n",
       "      <td>10.576211</td>\n",
       "      <td>3009.638142</td>\n",
       "      <td>8.247667</td>\n",
       "      <td>259.856633</td>\n",
       "      <td>3.109807</td>\n",
       "      <td>100.121124</td>\n",
       "      <td>1.693562</td>\n",
       "    </tr>\n",
       "    <tr>\n",
       "      <th>min</th>\n",
       "      <td>19.000000</td>\n",
       "      <td>-3313.000000</td>\n",
       "      <td>1.000000</td>\n",
       "      <td>4.000000</td>\n",
       "      <td>1.000000</td>\n",
       "      <td>-1.000000</td>\n",
       "      <td>0.000000</td>\n",
       "    </tr>\n",
       "    <tr>\n",
       "      <th>25%</th>\n",
       "      <td>33.000000</td>\n",
       "      <td>69.000000</td>\n",
       "      <td>9.000000</td>\n",
       "      <td>104.000000</td>\n",
       "      <td>1.000000</td>\n",
       "      <td>-1.000000</td>\n",
       "      <td>0.000000</td>\n",
       "    </tr>\n",
       "    <tr>\n",
       "      <th>50%</th>\n",
       "      <td>39.000000</td>\n",
       "      <td>444.000000</td>\n",
       "      <td>16.000000</td>\n",
       "      <td>185.000000</td>\n",
       "      <td>2.000000</td>\n",
       "      <td>-1.000000</td>\n",
       "      <td>0.000000</td>\n",
       "    </tr>\n",
       "    <tr>\n",
       "      <th>75%</th>\n",
       "      <td>49.000000</td>\n",
       "      <td>1480.000000</td>\n",
       "      <td>21.000000</td>\n",
       "      <td>329.000000</td>\n",
       "      <td>3.000000</td>\n",
       "      <td>-1.000000</td>\n",
       "      <td>0.000000</td>\n",
       "    </tr>\n",
       "    <tr>\n",
       "      <th>max</th>\n",
       "      <td>87.000000</td>\n",
       "      <td>71188.000000</td>\n",
       "      <td>31.000000</td>\n",
       "      <td>3025.000000</td>\n",
       "      <td>50.000000</td>\n",
       "      <td>871.000000</td>\n",
       "      <td>25.000000</td>\n",
       "    </tr>\n",
       "  </tbody>\n",
       "</table>\n",
       "</div>"
      ],
      "text/plain": [
       "               age       balance          day     duration     campaign        pdays     previous\n",
       "count  4521.000000   4521.000000  4521.000000  4521.000000  4521.000000  4521.000000  4521.000000\n",
       "mean     41.170095   1422.657819    15.915284   263.961292     2.793630    39.766645     0.542579\n",
       "std      10.576211   3009.638142     8.247667   259.856633     3.109807   100.121124     1.693562\n",
       "min      19.000000  -3313.000000     1.000000     4.000000     1.000000    -1.000000     0.000000\n",
       "25%      33.000000     69.000000     9.000000   104.000000     1.000000    -1.000000     0.000000\n",
       "50%      39.000000    444.000000    16.000000   185.000000     2.000000    -1.000000     0.000000\n",
       "75%      49.000000   1480.000000    21.000000   329.000000     3.000000    -1.000000     0.000000\n",
       "max      87.000000  71188.000000    31.000000  3025.000000    50.000000   871.000000    25.000000"
      ]
     },
     "execution_count": 23,
     "metadata": {},
     "output_type": "execute_result"
    }
   ],
   "source": [
    "psdf.describe()"
   ]
  },
  {
   "cell_type": "markdown",
   "metadata": {
    "application/vnd.databricks.v1+cell": {
     "inputWidgets": {},
     "nuid": "c7e85015-5739-4f67-bd73-af23d1decf4c",
     "showTitle": false,
     "title": ""
    },
    "id": "8hdB0-gZ606D"
   },
   "source": [
    "6. The above result includes the columns that are categorical, so those columns don't have useful summary statistics. Let's inspect just the numeric features.\n",
    "\n",
    "    `numeric_features` is defined below to contain the column names of the numeric features.  Notice we use the `zip` functions to iterate through two lists at the same time!\n",
    "    \n",
    "    Filter the DataFrame as you would in pandas to select only the numeric features from the DataFrame and then get the summary statistics on the resulting DataFrame as we did above."
   ]
  },
  {
   "cell_type": "code",
   "execution_count": 24,
   "metadata": {
    "application/vnd.databricks.v1+cell": {
     "inputWidgets": {},
     "nuid": "b843ce9c-92bb-4e45-b54a-4fea20d7e5d7",
     "showTitle": false,
     "title": ""
    },
    "colab": {
     "base_uri": "https://localhost:8080/",
     "height": 291
    },
    "id": "xP4uY29z606E",
    "outputId": "8fbfb144-ab13-41be-f43e-1137c256b5d8"
   },
   "outputs": [
    {
     "name": "stdout",
     "output_type": "stream",
     "text": [
      "['age', 'job', 'marital', 'education', 'default', 'balance', 'housing', 'loan', 'contact', 'day', 'month', 'duration', 'campaign', 'pdays', 'previous', 'poutcome', 'y']\n",
      "[dtype('int32'), dtype('O'), dtype('O'), dtype('O'), dtype('O'), dtype('int32'), dtype('O'), dtype('O'), dtype('O'), dtype('int32'), dtype('O'), dtype('int32'), dtype('int32'), dtype('int32'), dtype('int32'), dtype('O'), dtype('O')]\n",
      "   age  balance  day  duration  campaign  pdays  previous\n",
      "0   35     1350   16       185         1    330         1\n",
      "1   30     1476    3       199         4     -1         0\n",
      "2   35      747   23       141         2    176         3\n",
      "3   40      194   29       189         2     -1         0\n",
      "4   38        0   18        96         2     -1         0\n"
     ]
    },
    {
     "name": "stderr",
     "output_type": "stream",
     "text": [
      "/Users/deshantm/anaconda3/envs/py39_12/lib/python3.9/site-packages/pyspark/pandas/internal.py:1573: FutureWarning: iteritems is deprecated and will be removed in a future version. Use .items instead.\n",
      "  fields = [\n",
      "/Users/deshantm/anaconda3/envs/py39_12/lib/python3.9/site-packages/pyspark/sql/pandas/conversion.py:486: FutureWarning: iteritems is deprecated and will be removed in a future version. Use .items instead.\n",
      "  for column, series in pdf.iteritems():\n"
     ]
    },
    {
     "name": "stdout",
     "output_type": "stream",
     "text": [
      "age         4521\n",
      "balance     4521\n",
      "day         4521\n",
      "duration    4521\n",
      "campaign    4521\n",
      "pdays       4521\n",
      "previous    4521\n",
      "dtype: int64\n"
     ]
    }
   ],
   "source": [
    "col_names = [name for name in psdf.dtypes.index]\n",
    "print(col_names)\n",
    "#get a list of data types of the psdf columns with inferSchema = True\n",
    "#list datatypes of each column by inferSchema = True\n",
    "#df = spark.read.format(read_format).options(inferSchema=True).load(load_path)\n",
    "\n",
    "#print(psdf.dtypes.inferSchema).tolist()\n",
    "#dtypes = [dtype for dtype in psdf.dtypes]\n",
    "#print(dtypes)\n",
    "col_names = [name for name in psdf.dtypes.index]\n",
    "dtypes = [dtype for dtype in psdf.dtypes.tolist()]\n",
    "print(dtypes)\n",
    "numeric_features = [name for name, dtype in zip(col_names, dtypes) if dtype == 'int32' or dtype == 'float32' or dtype == 'float64']\n",
    "#numeric_features = [name for name, dtype in zip(col_names, dtypes) if dtype == 'int32' or dtype == 'float32' or dtype == 'float64']\n",
    "\n",
    "print(psdf[numeric_features].head(5))\n",
    "print(psdf[numeric_features].count())"
   ]
  },
  {
   "cell_type": "markdown",
   "metadata": {
    "application/vnd.databricks.v1+cell": {
     "inputWidgets": {},
     "nuid": "72534767-044a-417d-957c-ab26679b103d",
     "showTitle": false,
     "title": ""
    },
    "id": "gOBPcOPe606E"
   },
   "source": [
    "7. Run the following code to look at correlation between the numeric features.  Let's convert our Pandas on Spark DataFrame to a Pandas DataFrame using the `to_pandas()` command. This will enable us to plot the data.  What do you see?"
   ]
  },
  {
   "cell_type": "code",
   "execution_count": 25,
   "metadata": {
    "application/vnd.databricks.v1+cell": {
     "inputWidgets": {},
     "nuid": "1cfda4ef-8aa3-4f69-8ca8-101d11f17e8e",
     "showTitle": false,
     "title": ""
    },
    "colab": {
     "base_uri": "https://localhost:8080/",
     "height": 571
    },
    "id": "_3iYP4Ma606E",
    "outputId": "f719637a-43b2-4817-99b1-3293e5875b4a"
   },
   "outputs": [
    {
     "name": "stderr",
     "output_type": "stream",
     "text": [
      "/Users/deshantm/anaconda3/envs/py39_12/lib/python3.9/site-packages/pyspark/pandas/utils.py:975: PandasAPIOnSparkAdviceWarning: `to_pandas` loads all data into the driver's memory. It should only be used if the resulting pandas DataFrame is expected to be small.\n",
      "  warnings.warn(message, PandasAPIOnSparkAdviceWarning)\n"
     ]
    },
    {
     "data": {
      "image/png": "[encoded data removed]",
      "text/plain": [
       "<Figure size 800x800 with 49 Axes>"
      ]
     },
     "metadata": {},
     "output_type": "display_data"
    }
   ],
   "source": [
    "# Convert Pandas on Spark DataFrame to Spark DataFrame\n",
    "numeric_data = psdf[numeric_features].to_pandas()\n",
    "\n",
    "axs = pd.plotting.scatter_matrix(numeric_data, figsize=(8, 8));\n",
    "n = len(numeric_data.columns)\n",
    "\n",
    "for i in range(n):\n",
    "    v = axs[i, 0]\n",
    "    v.yaxis.label.set_rotation(0)\n",
    "    v.yaxis.label.set_ha('right')\n",
    "    v.set_yticks(())\n",
    "    h = axs[n - 1, i]\n",
    "    h.xaxis.label.set_rotation(90)\n",
    "    h.set_xticks(())"
   ]
  },
  {
   "cell_type": "markdown",
   "metadata": {
    "application/vnd.databricks.v1+cell": {
     "inputWidgets": {},
     "nuid": "79d455fa-6ee2-4de6-b055-fece294607d9",
     "showTitle": false,
     "title": ""
    },
    "id": "oqJ0UpN7606E"
   },
   "source": [
    "There aren't any highly correlated variables, implying that we can keep them all for the model. However, day and month columns are not really useful, so will remove these two columns.\n",
    "\n",
    "8. Use the `.drop()` method to remove the `month` and `day` columns.\n",
    "    \n",
    "    Note that this method returns a new DataFrame, so save that result as `sdf`.\n",
    "\n",
    "    Use the `.dtypes` method to verify that `sdf` now has the correct columns."
   ]
  },
  {
   "cell_type": "code",
   "execution_count": 32,
   "metadata": {
    "application/vnd.databricks.v1+cell": {
     "inputWidgets": {},
     "nuid": "adef7a84-4270-4108-9849-ef699d0d7541",
     "showTitle": false,
     "title": ""
    },
    "colab": {
     "base_uri": "https://localhost:8080/"
    },
    "id": "BBiC1jtR606F",
    "outputId": "22b40379-bf5e-47a0-b338-5e936d58109b"
   },
   "outputs": [
    {
     "name": "stdout",
     "output_type": "stream",
     "text": [
      "age         int32\n",
      "balance     int32\n",
      "day         int32\n",
      "duration    int32\n",
      "campaign    int32\n",
      "pdays       int32\n",
      "previous    int32\n",
      "dtype: object\n"
     ]
    },
    {
     "data": {
      "text/html": [
       "<div>\n",
       "<style scoped>\n",
       "    .dataframe tbody tr th:only-of-type {\n",
       "        vertical-align: middle;\n",
       "    }\n",
       "\n",
       "    .dataframe tbody tr th {\n",
       "        vertical-align: top;\n",
       "    }\n",
       "\n",
       "    .dataframe thead th {\n",
       "        text-align: right;\n",
       "    }\n",
       "</style>\n",
       "<table border=\"1\" class=\"dataframe\">\n",
       "  <thead>\n",
       "    <tr style=\"text-align: right;\">\n",
       "      <th></th>\n",
       "      <th>age</th>\n",
       "      <th>balance</th>\n",
       "      <th>day</th>\n",
       "      <th>duration</th>\n",
       "      <th>campaign</th>\n",
       "      <th>pdays</th>\n",
       "      <th>previous</th>\n",
       "    </tr>\n",
       "  </thead>\n",
       "  <tbody>\n",
       "    <tr>\n",
       "      <th>0</th>\n",
       "      <td>35</td>\n",
       "      <td>1350</td>\n",
       "      <td>16</td>\n",
       "      <td>185</td>\n",
       "      <td>1</td>\n",
       "      <td>330</td>\n",
       "      <td>1</td>\n",
       "    </tr>\n",
       "    <tr>\n",
       "      <th>1</th>\n",
       "      <td>30</td>\n",
       "      <td>1476</td>\n",
       "      <td>3</td>\n",
       "      <td>199</td>\n",
       "      <td>4</td>\n",
       "      <td>-1</td>\n",
       "      <td>0</td>\n",
       "    </tr>\n",
       "    <tr>\n",
       "      <th>2</th>\n",
       "      <td>35</td>\n",
       "      <td>747</td>\n",
       "      <td>23</td>\n",
       "      <td>141</td>\n",
       "      <td>2</td>\n",
       "      <td>176</td>\n",
       "      <td>3</td>\n",
       "    </tr>\n",
       "    <tr>\n",
       "      <th>3</th>\n",
       "      <td>40</td>\n",
       "      <td>194</td>\n",
       "      <td>29</td>\n",
       "      <td>189</td>\n",
       "      <td>2</td>\n",
       "      <td>-1</td>\n",
       "      <td>0</td>\n",
       "    </tr>\n",
       "    <tr>\n",
       "      <th>4</th>\n",
       "      <td>38</td>\n",
       "      <td>0</td>\n",
       "      <td>18</td>\n",
       "      <td>96</td>\n",
       "      <td>2</td>\n",
       "      <td>-1</td>\n",
       "      <td>0</td>\n",
       "    </tr>\n",
       "  </tbody>\n",
       "</table>\n",
       "</div>"
      ],
      "text/plain": [
       "   age  balance  day  duration  campaign  pdays  previous\n",
       "0   35     1350   16       185         1    330         1\n",
       "1   30     1476    3       199         4     -1         0\n",
       "2   35      747   23       141         2    176         3\n",
       "3   40      194   29       189         2     -1         0\n",
       "4   38        0   18        96         2     -1         0"
      ]
     },
     "execution_count": 32,
     "metadata": {},
     "output_type": "execute_result"
    }
   ],
   "source": [
    "#use drop to remove columns month and day from numeric_data and store in sdf\n",
    "numeric_data.head(5)\n",
    "sdf = numeric_data\n",
    "#sdf = numeric_data.drop(['month','day'], axis=1)\n",
    "\n",
    "\n",
    "\n",
    "print(sdf.dtypes)\n",
    "sdf.head(5)"
   ]
  },
  {
   "cell_type": "markdown",
   "metadata": {
    "application/vnd.databricks.v1+cell": {
     "inputWidgets": {},
     "nuid": "dc7c7c08-3090-4609-b0b3-a5ffa6be0981",
     "showTitle": false,
     "title": ""
    },
    "id": "NaVpHgTy606F"
   },
   "source": [
    "## Part 3: Preparing Data for Training a Model\n",
    "\n",
    "What follows is something analagous to a dataloader pipeline in Tensorflow--we're going to chain together some transformations that will convert our categorical variables into a one-hot format more amenable to training a machine learning model. \n",
    "The next code cell just sets this all up, but it doesn't run these transformations on our data yet."
   ]
  },
  {
   "cell_type": "markdown",
   "metadata": {
    "application/vnd.databricks.v1+cell": {
     "inputWidgets": {},
     "nuid": "72e6e744-d740-4365-b02a-cec38e4b0779",
     "showTitle": false,
     "title": ""
    },
    "id": "gO45xEZ9606F"
   },
   "source": [
    "The process includes Category Indexing, One-Hot Encoding and VectorAssembler — a feature transformation that merges multiple columns into a vector column."
   ]
  },
  {
   "cell_type": "markdown",
   "metadata": {
    "application/vnd.databricks.v1+cell": {
     "inputWidgets": {},
     "nuid": "c20c43bc-899c-46fd-8cd8-68f7faddd8b9",
     "showTitle": false,
     "title": ""
    },
    "id": "TIBGTMSU606G"
   },
   "source": [
    "The code is taken from [databricks’ official site](https://docs.databricks.com/applications/machine-learning/train-model/mllib/index.html#binary-classification-example) and it indexes each categorical column using the StringIndexer, then converts the indexed categories into one-hot encoded variables. \n",
    "The resulting output has the binary vectors appended to the end of each row. \n",
    "We use the StringIndexer again to encode our labels to label indices. \n",
    "Next, we use the VectorAssembler to combine all the feature columns into a single vector column."
   ]
  },
  {
   "cell_type": "markdown",
   "metadata": {
    "id": "q5Zs_fki606G"
   },
   "source": [
    "1. Complete the code by completing the assignment of `assembler`. Use `VectorAssembler` and pass in `assemblerInputs` as `inputCols` and name the `outputCol` `\"features\"`."
   ]
  },
  {
   "cell_type": "code",
   "execution_count": 33,
   "metadata": {
    "application/vnd.databricks.v1+cell": {
     "inputWidgets": {},
     "nuid": "2f4b6f3b-a25b-4c93-ae7b-d9fcf8d451df",
     "showTitle": false,
     "title": ""
    },
    "id": "beyBChtD606G"
   },
   "outputs": [],
   "source": [
    "from pyspark.ml.feature import OneHotEncoder , StringIndexer, VectorAssembler\n",
    "\n",
    "categoricalColumns = ['job', 'marital', 'education', 'default', 'housing', 'loan', 'contact', 'poutcome']\n",
    "stages = []\n",
    "\n",
    "for categoricalCol in categoricalColumns:\n",
    "    stringIndexer = StringIndexer(inputCol = categoricalCol, outputCol = categoricalCol + 'Index')\n",
    "    encoder = OneHotEncoder(inputCols=[stringIndexer.getOutputCol()], outputCols=[categoricalCol + \"classVec\"])\n",
    "    stages += [stringIndexer, encoder]\n",
    "\n",
    "label_stringIdx = StringIndexer(inputCol = 'y', outputCol = 'label')\n",
    "stages += [label_stringIdx]\n",
    "numericCols = ['age', 'balance', 'duration', 'campaign', 'pdays', 'previous']\n",
    "assemblerInputs = [c + \"classVec\" for c in categoricalColumns] + numericCols\n",
    "assembler = VectorAssembler(inputCols=assemblerInputs, outputCol=\"features\")\n",
    "stages += [assembler]"
   ]
  },
  {
   "cell_type": "markdown",
   "metadata": {
    "application/vnd.databricks.v1+cell": {
     "inputWidgets": {},
     "nuid": "0a430a65-f90a-4941-8476-7497416dd0b8",
     "showTitle": false,
     "title": ""
    },
    "id": "gsTuJQBk606G"
   },
   "source": [
    "## Part 4: Pipeline"
   ]
  },
  {
   "cell_type": "markdown",
   "metadata": {
    "application/vnd.databricks.v1+cell": {
     "inputWidgets": {},
     "nuid": "e6191ae8-826c-405c-835b-85ccde4ed00d",
     "showTitle": false,
     "title": ""
    },
    "id": "mDNzrSSr606H"
   },
   "source": [
    "We use Pipeline to chain multiple transformations and estimators together to specify our machine learning workflow. \n",
    "A Pipeline’s stages are specified as an ordered array.  \n",
    "To run the pipeline on our Pandas on Spark DataFrame, we will convert it back to a Spark DataFrame using the **`to_spark()`** command\n",
    "\n",
    "1. Fit a pipeline on df."
   ]
  },
  {
   "cell_type": "code",
   "execution_count": 35,
   "metadata": {},
   "outputs": [
    {
     "name": "stderr",
     "output_type": "stream",
     "text": [
      "/Users/deshantm/anaconda3/envs/py39_12/lib/python3.9/site-packages/pyspark/pandas/utils.py:975: PandasAPIOnSparkAdviceWarning: If `index_col` is not specified for `to_spark`, the existing index is lost when converting to Spark DataFrame.\n",
      "  warnings.warn(message, PandasAPIOnSparkAdviceWarning)\n",
      "                                                                                \r"
     ]
    }
   ],
   "source": [
    "from pyspark.ml import Pipeline\n",
    "sdf = psdf.to_spark()\n",
    "pipeline = Pipeline(stages=stages)\n",
    "\n",
    "pipelineModel = pipeline.fit(sdf)"
   ]
  },
  {
   "cell_type": "code",
   "execution_count": 36,
   "metadata": {},
   "outputs": [
    {
     "name": "stdout",
     "output_type": "stream",
     "text": [
      "23/01/20 12:15:06 WARN SparkSession: Using an existing Spark session; only runtime SQL configurations will take effect.\n"
     ]
    }
   ],
   "source": [
    "from pyspark.sql import SparkSession\n",
    "\n",
    "# Initialize SparkSession\n",
    "spark = SparkSession.builder.appName(\"PandasToSpark\").getOrCreate()"
   ]
  },
  {
   "cell_type": "markdown",
   "metadata": {
    "id": "FN6xXah5606H"
   },
   "source": [
    "2. Transform `pipelineModel` on `df` and assign this to variable `transformed_df`."
   ]
  },
  {
   "cell_type": "code",
   "execution_count": 37,
   "metadata": {
    "colab": {
     "base_uri": "https://localhost:8080/"
    },
    "id": "QTsKIGt1606H",
    "outputId": "d42b5902-4ac8-4e97-80ab-1d29f4753250"
   },
   "outputs": [
    {
     "name": "stdout",
     "output_type": "stream",
     "text": [
      "root\n",
      " |-- age: integer (nullable = true)\n",
      " |-- job: string (nullable = true)\n",
      " |-- marital: string (nullable = true)\n",
      " |-- education: string (nullable = true)\n",
      " |-- default: string (nullable = true)\n",
      " |-- balance: integer (nullable = true)\n",
      " |-- housing: string (nullable = true)\n",
      " |-- loan: string (nullable = true)\n",
      " |-- contact: string (nullable = true)\n",
      " |-- day: integer (nullable = true)\n",
      " |-- month: string (nullable = true)\n",
      " |-- duration: integer (nullable = true)\n",
      " |-- campaign: integer (nullable = true)\n",
      " |-- pdays: integer (nullable = true)\n",
      " |-- previous: integer (nullable = true)\n",
      " |-- poutcome: string (nullable = true)\n",
      " |-- y: string (nullable = true)\n",
      " |-- jobIndex: double (nullable = false)\n",
      " |-- jobclassVec: vector (nullable = true)\n",
      " |-- maritalIndex: double (nullable = false)\n",
      " |-- maritalclassVec: vector (nullable = true)\n",
      " |-- educationIndex: double (nullable = false)\n",
      " |-- educationclassVec: vector (nullable = true)\n",
      " |-- defaultIndex: double (nullable = false)\n",
      " |-- defaultclassVec: vector (nullable = true)\n",
      " |-- housingIndex: double (nullable = false)\n",
      " |-- housingclassVec: vector (nullable = true)\n",
      " |-- loanIndex: double (nullable = false)\n",
      " |-- loanclassVec: vector (nullable = true)\n",
      " |-- contactIndex: double (nullable = false)\n",
      " |-- contactclassVec: vector (nullable = true)\n",
      " |-- poutcomeIndex: double (nullable = false)\n",
      " |-- poutcomeclassVec: vector (nullable = true)\n",
      " |-- label: double (nullable = false)\n",
      " |-- features: vector (nullable = true)\n",
      "\n"
     ]
    }
   ],
   "source": [
    "#Transform `pipelineModel` on `df` and assign this to variable `transformed_df`.\n",
    "transformed_df = pipelineModel.transform(sdf)\n",
    "transformed_df.printSchema()"
   ]
  },
  {
   "cell_type": "markdown",
   "metadata": {
    "id": "fS3OQX0p606H"
   },
   "source": [
    "From the transformation, we'd like to take the `label` and `features` columns as well as the original columns from `sdf.`\n",
    "\n",
    "3. Use the `.select()` method to pull these columns from the `transformed_df` and reassign the resulting DataFrame to `sdf`."
   ]
  },
  {
   "cell_type": "code",
   "execution_count": 38,
   "metadata": {
    "colab": {
     "base_uri": "https://localhost:8080/"
    },
    "id": "OWLr2mo0606I",
    "outputId": "4ebeaf4d-f3f3-4a67-9480-93455b92cff3"
   },
   "outputs": [
    {
     "name": "stdout",
     "output_type": "stream",
     "text": [
      "root\n",
      " |-- label: double (nullable = false)\n",
      " |-- features: vector (nullable = true)\n",
      " |-- age: integer (nullable = true)\n",
      " |-- job: string (nullable = true)\n",
      " |-- marital: string (nullable = true)\n",
      " |-- education: string (nullable = true)\n",
      " |-- default: string (nullable = true)\n",
      " |-- balance: integer (nullable = true)\n",
      " |-- housing: string (nullable = true)\n",
      " |-- loan: string (nullable = true)\n",
      " |-- contact: string (nullable = true)\n",
      " |-- day: integer (nullable = true)\n",
      " |-- month: string (nullable = true)\n",
      " |-- duration: integer (nullable = true)\n",
      " |-- campaign: integer (nullable = true)\n",
      " |-- pdays: integer (nullable = true)\n",
      " |-- previous: integer (nullable = true)\n",
      " |-- poutcome: string (nullable = true)\n",
      " |-- y: string (nullable = true)\n",
      "\n"
     ]
    }
   ],
   "source": [
    "selectedCols = ['label', 'features'] + sdf.columns\n",
    "sdf = transformed_df.select(selectedCols)\n",
    "sdf.printSchema()"
   ]
  },
  {
   "cell_type": "markdown",
   "metadata": {
    "id": "rCA4o74C606I"
   },
   "source": [
    "4. Let's view the first five rows of the `sdf` DataFrame using the methods we learned in Part 2:\n",
    "    * `.show()` method\n",
    "    * `.take()` method and convert result to a Pandas DataFrame"
   ]
  },
  {
   "cell_type": "code",
   "execution_count": 40,
   "metadata": {
    "application/vnd.databricks.v1+cell": {
     "inputWidgets": {},
     "nuid": "b177c7ee-96a4-4340-952b-e02cb46faf25",
     "showTitle": false,
     "title": ""
    },
    "colab": {
     "base_uri": "https://localhost:8080/",
     "height": 594
    },
    "id": "rUnHgPSY606I",
    "outputId": "ad6b8ce7-5306-416e-cd30-4b5dad1acbbe"
   },
   "outputs": [
    {
     "name": "stdout",
     "output_type": "stream",
     "text": [
      "+-----+--------------------+---+----------+--------+---------+-------+-------+-------+----+--------+---+-----+--------+--------+-----+--------+--------+---+\n",
      "|label|            features|age|       job| marital|education|default|balance|housing|loan| contact|day|month|duration|campaign|pdays|previous|poutcome|  y|\n",
      "+-----+--------------------+---+----------+--------+---------+-------+-------+-------+----+--------+---+-----+--------+--------+-----+--------+--------+---+\n",
      "|  0.0|(30,[0,12,14,16,1...| 35|management|  single| tertiary|     no|   1350|    yes|  no|cellular| 16|  apr|     185|       1|  330|       1| failure| no|\n",
      "|  0.0|(30,[0,11,14,16,1...| 30|management| married| tertiary|     no|   1476|    yes| yes| unknown|  3|  jun|     199|       4|   -1|       0| unknown| no|\n",
      "|  0.0|(30,[0,12,14,16,1...| 35|management|  single| tertiary|     no|    747|     no|  no|cellular| 23|  feb|     141|       2|  176|       3| failure| no|\n",
      "|  0.0|(30,[0,11,14,16,1...| 40|management| married| tertiary|     no|    194|     no| yes|cellular| 29|  aug|     189|       2|   -1|       0| unknown| no|\n",
      "|  0.0|(30,[0,16,17,18,1...| 38|management|divorced|  unknown|     no|      0|    yes|  no|cellular| 18|  nov|      96|       2|   -1|       0| unknown| no|\n",
      "+-----+--------------------+---+----------+--------+---------+-------+-------+-------+----+--------+---+-----+--------+--------+-----+--------+--------+---+\n",
      "only showing top 5 rows\n",
      "\n"
     ]
    },
    {
     "data": {
      "text/html": [
       "<div>\n",
       "<style scoped>\n",
       "    .dataframe tbody tr th:only-of-type {\n",
       "        vertical-align: middle;\n",
       "    }\n",
       "\n",
       "    .dataframe tbody tr th {\n",
       "        vertical-align: top;\n",
       "    }\n",
       "\n",
       "    .dataframe thead th {\n",
       "        text-align: right;\n",
       "    }\n",
       "</style>\n",
       "<table border=\"1\" class=\"dataframe\">\n",
       "  <thead>\n",
       "    <tr style=\"text-align: right;\">\n",
       "      <th></th>\n",
       "      <th>label</th>\n",
       "      <th>features</th>\n",
       "      <th>age</th>\n",
       "      <th>job</th>\n",
       "      <th>marital</th>\n",
       "      <th>education</th>\n",
       "      <th>default</th>\n",
       "      <th>balance</th>\n",
       "      <th>housing</th>\n",
       "      <th>loan</th>\n",
       "      <th>contact</th>\n",
       "      <th>day</th>\n",
       "      <th>month</th>\n",
       "      <th>duration</th>\n",
       "      <th>campaign</th>\n",
       "      <th>pdays</th>\n",
       "      <th>previous</th>\n",
       "      <th>poutcome</th>\n",
       "      <th>y</th>\n",
       "    </tr>\n",
       "  </thead>\n",
       "  <tbody>\n",
       "    <tr>\n",
       "      <th>0</th>\n",
       "      <td>0.0</td>\n",
       "      <td>(1.0, 0.0, 0.0, 0.0, 0.0, 0.0, 0.0, 0.0, 0.0, ...</td>\n",
       "      <td>35</td>\n",
       "      <td>management</td>\n",
       "      <td>single</td>\n",
       "      <td>tertiary</td>\n",
       "      <td>no</td>\n",
       "      <td>1350</td>\n",
       "      <td>yes</td>\n",
       "      <td>no</td>\n",
       "      <td>cellular</td>\n",
       "      <td>16</td>\n",
       "      <td>apr</td>\n",
       "      <td>185</td>\n",
       "      <td>1</td>\n",
       "      <td>330</td>\n",
       "      <td>1</td>\n",
       "      <td>failure</td>\n",
       "      <td>no</td>\n",
       "    </tr>\n",
       "    <tr>\n",
       "      <th>1</th>\n",
       "      <td>0.0</td>\n",
       "      <td>(1.0, 0.0, 0.0, 0.0, 0.0, 0.0, 0.0, 0.0, 0.0, ...</td>\n",
       "      <td>30</td>\n",
       "      <td>management</td>\n",
       "      <td>married</td>\n",
       "      <td>tertiary</td>\n",
       "      <td>no</td>\n",
       "      <td>1476</td>\n",
       "      <td>yes</td>\n",
       "      <td>yes</td>\n",
       "      <td>unknown</td>\n",
       "      <td>3</td>\n",
       "      <td>jun</td>\n",
       "      <td>199</td>\n",
       "      <td>4</td>\n",
       "      <td>-1</td>\n",
       "      <td>0</td>\n",
       "      <td>unknown</td>\n",
       "      <td>no</td>\n",
       "    </tr>\n",
       "    <tr>\n",
       "      <th>2</th>\n",
       "      <td>0.0</td>\n",
       "      <td>(1.0, 0.0, 0.0, 0.0, 0.0, 0.0, 0.0, 0.0, 0.0, ...</td>\n",
       "      <td>35</td>\n",
       "      <td>management</td>\n",
       "      <td>single</td>\n",
       "      <td>tertiary</td>\n",
       "      <td>no</td>\n",
       "      <td>747</td>\n",
       "      <td>no</td>\n",
       "      <td>no</td>\n",
       "      <td>cellular</td>\n",
       "      <td>23</td>\n",
       "      <td>feb</td>\n",
       "      <td>141</td>\n",
       "      <td>2</td>\n",
       "      <td>176</td>\n",
       "      <td>3</td>\n",
       "      <td>failure</td>\n",
       "      <td>no</td>\n",
       "    </tr>\n",
       "    <tr>\n",
       "      <th>3</th>\n",
       "      <td>0.0</td>\n",
       "      <td>(1.0, 0.0, 0.0, 0.0, 0.0, 0.0, 0.0, 0.0, 0.0, ...</td>\n",
       "      <td>40</td>\n",
       "      <td>management</td>\n",
       "      <td>married</td>\n",
       "      <td>tertiary</td>\n",
       "      <td>no</td>\n",
       "      <td>194</td>\n",
       "      <td>no</td>\n",
       "      <td>yes</td>\n",
       "      <td>cellular</td>\n",
       "      <td>29</td>\n",
       "      <td>aug</td>\n",
       "      <td>189</td>\n",
       "      <td>2</td>\n",
       "      <td>-1</td>\n",
       "      <td>0</td>\n",
       "      <td>unknown</td>\n",
       "      <td>no</td>\n",
       "    </tr>\n",
       "    <tr>\n",
       "      <th>4</th>\n",
       "      <td>0.0</td>\n",
       "      <td>(1.0, 0.0, 0.0, 0.0, 0.0, 0.0, 0.0, 0.0, 0.0, ...</td>\n",
       "      <td>38</td>\n",
       "      <td>management</td>\n",
       "      <td>divorced</td>\n",
       "      <td>unknown</td>\n",
       "      <td>no</td>\n",
       "      <td>0</td>\n",
       "      <td>yes</td>\n",
       "      <td>no</td>\n",
       "      <td>cellular</td>\n",
       "      <td>18</td>\n",
       "      <td>nov</td>\n",
       "      <td>96</td>\n",
       "      <td>2</td>\n",
       "      <td>-1</td>\n",
       "      <td>0</td>\n",
       "      <td>unknown</td>\n",
       "      <td>no</td>\n",
       "    </tr>\n",
       "  </tbody>\n",
       "</table>\n",
       "</div>"
      ],
      "text/plain": [
       "   label                                           features  age         job  \\\n",
       "0    0.0  (1.0, 0.0, 0.0, 0.0, 0.0, 0.0, 0.0, 0.0, 0.0, ...   35  management   \n",
       "1    0.0  (1.0, 0.0, 0.0, 0.0, 0.0, 0.0, 0.0, 0.0, 0.0, ...   30  management   \n",
       "2    0.0  (1.0, 0.0, 0.0, 0.0, 0.0, 0.0, 0.0, 0.0, 0.0, ...   35  management   \n",
       "3    0.0  (1.0, 0.0, 0.0, 0.0, 0.0, 0.0, 0.0, 0.0, 0.0, ...   40  management   \n",
       "4    0.0  (1.0, 0.0, 0.0, 0.0, 0.0, 0.0, 0.0, 0.0, 0.0, ...   38  management   \n",
       "\n",
       "    marital education default  balance housing loan   contact  day month  \\\n",
       "0    single  tertiary      no     1350     yes   no  cellular   16   apr   \n",
       "1   married  tertiary      no     1476     yes  yes   unknown    3   jun   \n",
       "2    single  tertiary      no      747      no   no  cellular   23   feb   \n",
       "3   married  tertiary      no      194      no  yes  cellular   29   aug   \n",
       "4  divorced   unknown      no        0     yes   no  cellular   18   nov   \n",
       "\n",
       "   duration  campaign  pdays  previous poutcome   y  \n",
       "0       185         1    330         1  failure  no  \n",
       "1       199         4     -1         0  unknown  no  \n",
       "2       141         2    176         3  failure  no  \n",
       "3       189         2     -1         0  unknown  no  \n",
       "4        96         2     -1         0  unknown  no  "
      ]
     },
     "execution_count": 40,
     "metadata": {},
     "output_type": "execute_result"
    }
   ],
   "source": [
    "#use show to peek at first five observations\n",
    "sdf.show(5)\n",
    "#use take method and convert to pandas dataframe\n",
    "pdf = sdf.take(5)\n",
    "pdf = pd.DataFrame(pdf, columns=sdf.columns)\n",
    "pdf.head()\n",
    "\n"
   ]
  },
  {
   "cell_type": "markdown",
   "metadata": {
    "id": "NgtkTLyN606I"
   },
   "source": [
    "5. Randomly split the dataset in training and test sets, with 70% of the data in the training set and the remaining 30% in the test set.\n",
    "\n",
    "    Hint: Call the `.randomSplit()` method."
   ]
  },
  {
   "cell_type": "code",
   "execution_count": 41,
   "metadata": {
    "application/vnd.databricks.v1+cell": {
     "inputWidgets": {},
     "nuid": "b4798af7-e77f-4ebb-891f-c814799f8618",
     "showTitle": false,
     "title": ""
    },
    "id": "pOV9t-nj606I"
   },
   "outputs": [],
   "source": [
    "train, test = sdf.randomSplit([0.7, 0.3], seed = 100)"
   ]
  },
  {
   "cell_type": "markdown",
   "metadata": {
    "id": "ch88ygkE606J"
   },
   "source": [
    "6. What are the sizes of the training and test sets?"
   ]
  },
  {
   "cell_type": "code",
   "execution_count": 45,
   "metadata": {
    "colab": {
     "base_uri": "https://localhost:8080/"
    },
    "id": "qYQ9e6Ha606J",
    "outputId": "2d73d0d2-decb-42de-e7ec-813bc2f1caf2"
   },
   "outputs": [
    {
     "name": "stdout",
     "output_type": "stream",
     "text": [
      "traing size: 3126\n",
      "test size: 1395\n"
     ]
    },
    {
     "name": "stderr",
     "output_type": "stream",
     "text": [
      "                                                                                \r"
     ]
    },
    {
     "name": "stdout",
     "output_type": "stream",
     "text": [
      "traing size: 0.6914399469143995\n",
      "test size: 0.3085600530856005\n"
     ]
    }
   ],
   "source": [
    "print(\"traing size: \" + str(train.count()))\n",
    "print(\"test size: \" + str(test.count()))\n",
    "#calculate percentage of training and test data\n",
    "print(\"traing size: \" + str(train.count()/sdf.count()))\n",
    "print(\"test size: \" + str(test.count()/sdf.count()))\n"
   ]
  },
  {
   "cell_type": "markdown",
   "metadata": {
    "application/vnd.databricks.v1+cell": {
     "inputWidgets": {},
     "nuid": "42af67c4-7257-40f0-8219-069494123190",
     "showTitle": false,
     "title": ""
    },
    "id": "IWNVbqgU606J"
   },
   "source": [
    "## Part 5: Logistic Regression Model\n",
    "\n",
    "Optional:\n",
    "- You can build a RandomForestClassifier with : from pyspark.ml.classification import RandomForestClassifier\n",
    "- You can build a Gradient-Boosted Tree Classifier with : from pyspark.ml.classification import GBTClassifier\n",
    "\n",
    "1. Fit a logistic regression with `featuresCol` as `\"features\"`, `labelCol` as `\"label\"` and a `maxIter` of 10."
   ]
  },
  {
   "cell_type": "code",
   "execution_count": 50,
   "metadata": {
    "application/vnd.databricks.v1+cell": {
     "inputWidgets": {},
     "nuid": "45df93be-c36f-4b6c-8393-13e39311e218",
     "showTitle": false,
     "title": ""
    },
    "id": "7StSP1Jv606J"
   },
   "outputs": [],
   "source": [
    "from pyspark.ml.classification import LogisticRegression\n",
    "\n",
    "#build a RandomForestClassifier model with pyspark.ml.classification\n",
    "from pyspark.ml.classification import RandomForestClassifier\n",
    "#build a gradient-boosted tree classifier model with pyspark.ml.classification\n",
    "from pyspark.ml.classification import GBTClassifier\n",
    "#fit logistic regression with featuresCol as features and labelCol as label and maxIter as 10\n",
    "lr = LogisticRegression(featuresCol = 'features', labelCol = 'label', maxIter=10)\n",
    "#convert lr to model\n",
    "lrModel = lr.fit(train)"
   ]
  },
  {
   "cell_type": "markdown",
   "metadata": {
    "application/vnd.databricks.v1+cell": {
     "inputWidgets": {},
     "nuid": "eb297027-929c-4637-8ed2-64bff31e1fd4",
     "showTitle": false,
     "title": ""
    },
    "id": "OMSgeFA1606J"
   },
   "source": [
    "2. We can obtain the coefficients by using logistic regression model’s attributes. Look at the following plot of the beta coefficients."
   ]
  },
  {
   "cell_type": "code",
   "execution_count": 51,
   "metadata": {
    "application/vnd.databricks.v1+cell": {
     "inputWidgets": {},
     "nuid": "c1766292-117f-4ea2-89fe-2c62612a600b",
     "showTitle": false,
     "title": ""
    },
    "colab": {
     "base_uri": "https://localhost:8080/",
     "height": 264
    },
    "id": "bh28ROSu606J",
    "outputId": "c208b6b6-2be5-4fbf-ec7b-c6e387a4fd12"
   },
   "outputs": [
    {
     "data": {
      "image/png": "[encoded data removed]",
      "text/plain": [
       "<Figure size 640x480 with 1 Axes>"
      ]
     },
     "metadata": {},
     "output_type": "display_data"
    }
   ],
   "source": [
    "import matplotlib.pyplot as plt\n",
    "import numpy as np\n",
    "beta = np.sort(lrModel.coefficients)\n",
    "plt.plot(beta)\n",
    "plt.ylabel('Beta Coefficients')\n",
    "plt.show()"
   ]
  },
  {
   "cell_type": "markdown",
   "metadata": {
    "application/vnd.databricks.v1+cell": {
     "inputWidgets": {},
     "nuid": "a850fb0a-0d4d-4f58-8c23-2aea0db2f3f1",
     "showTitle": false,
     "title": ""
    },
    "id": "K3hE2Ja2606K"
   },
   "source": [
    "3. Use the `.transform()` method to make predictions and save them as `predictions`."
   ]
  },
  {
   "cell_type": "code",
   "execution_count": 52,
   "metadata": {
    "application/vnd.databricks.v1+cell": {
     "inputWidgets": {},
     "nuid": "cdf395d5-b7ef-4f5a-8a32-f1eb76b59122",
     "showTitle": false,
     "title": ""
    },
    "id": "9X_xoxnF606K"
   },
   "outputs": [],
   "source": [
    "predictions = lrModel.transform(test)"
   ]
  },
  {
   "cell_type": "markdown",
   "metadata": {
    "id": "NIXVUZLv606K"
   },
   "source": [
    "4. View the first 10 rows of the `predictions` DataFrame."
   ]
  },
  {
   "cell_type": "code",
   "execution_count": 53,
   "metadata": {
    "colab": {
     "base_uri": "https://localhost:8080/",
     "height": 1000
    },
    "id": "1AD_mkwl606K",
    "outputId": "0024428e-6085-4f88-80d4-629d3e0c8130"
   },
   "outputs": [
    {
     "name": "stdout",
     "output_type": "stream",
     "text": [
      "+---+----------+-----+--------------------+----------+--------------------+\n",
      "|age|       job|label|       rawPrediction|prediction|         probability|\n",
      "+---+----------+-----+--------------------+----------+--------------------+\n",
      "| 33|management|  0.0|[3.15445158920630...|       0.0|[0.95908376892405...|\n",
      "| 51|management|  0.0|[1.84685242284742...|       0.0|[0.86375711764294...|\n",
      "| 52|management|  0.0|[3.49132959099544...|       0.0|[0.97044006053299...|\n",
      "| 60|management|  0.0|[2.33953843091392...|       0.0|[0.91209908621071...|\n",
      "| 30|management|  0.0|[0.44741029050154...|       0.0|[0.61002333118601...|\n",
      "| 40|management|  0.0|[3.08669846601580...|       0.0|[0.95634072311917...|\n",
      "| 32|management|  0.0|[4.49236599336510...|       0.0|[0.98892979407135...|\n",
      "| 35|management|  0.0|[4.84509424167142...|       0.0|[0.99219452864303...|\n",
      "| 42|management|  0.0|[3.83208565120615...|       0.0|[0.97879500894291...|\n",
      "| 44|management|  0.0|[1.46727868814944...|       0.0|[0.81264340761461...|\n",
      "+---+----------+-----+--------------------+----------+--------------------+\n",
      "only showing top 10 rows\n",
      "\n"
     ]
    }
   ],
   "source": [
    "#view first 10 rows of predictions\n",
    "predictions.select('age', 'job', 'label', 'rawPrediction', 'prediction', 'probability').show(10)"
   ]
  },
  {
   "cell_type": "markdown",
   "metadata": {
    "id": "Z-2MVhsn606K"
   },
   "source": [
    "5. What is the area under the curve?\n",
    "\n",
    "    You can find it with the `evaluator.evaluate()` function."
   ]
  },
  {
   "cell_type": "code",
   "execution_count": 54,
   "metadata": {
    "application/vnd.databricks.v1+cell": {
     "inputWidgets": {},
     "nuid": "5308cabd-37c2-43d2-bb24-19d638ec54e9",
     "showTitle": false,
     "title": ""
    },
    "colab": {
     "base_uri": "https://localhost:8080/"
    },
    "id": "-bH62bSe606K",
    "outputId": "eb427a7f-ac11-4e3b-dc59-8f96ca0bc602"
   },
   "outputs": [
    {
     "name": "stdout",
     "output_type": "stream",
     "text": [
      "Test Area Under ROC 0.8631140675043117\n"
     ]
    },
    {
     "name": "stderr",
     "output_type": "stream",
     "text": [
      "                                                                                \r"
     ]
    },
    {
     "name": "stdout",
     "output_type": "stream",
     "text": [
      "Test Area Under PR 0.46320283875305285\n"
     ]
    }
   ],
   "source": [
    "from pyspark.ml.evaluation import BinaryClassificationEvaluator\n",
    "\n",
    "evaluator = BinaryClassificationEvaluator()\n",
    "#use evaluate method to calculate the areaUnderROC\n",
    "print('Test Area Under ROC', evaluator.evaluate(predictions))\n",
    "\n",
    "#use evaluate method to calculate the areaUnderPR\n",
    "evaluator = BinaryClassificationEvaluator(metricName='areaUnderPR')\n",
    "print('Test Area Under PR', evaluator.evaluate(predictions))\n"
   ]
  },
  {
   "cell_type": "markdown",
   "metadata": {
    "application/vnd.databricks.v1+cell": {
     "inputWidgets": {},
     "nuid": "9a5ca7ac-9dd1-4610-93c2-41a53c40da74",
     "showTitle": false,
     "title": ""
    },
    "id": "iL4_IuwT606L"
   },
   "source": [
    "## OPTIONAL: HyperParameter Tuning a Gradient-Boosted Tree Classifier\n",
    "\n",
    "1. Fit and make predictions using `GBTClassifier`. The syntax will match what we did above with `LogisticRegression`."
   ]
  },
  {
   "cell_type": "code",
   "execution_count": null,
   "metadata": {
    "application/vnd.databricks.v1+cell": {
     "inputWidgets": {},
     "nuid": "e207bd8b-47a0-435a-8e82-affae0da0b9c",
     "showTitle": false,
     "title": ""
    },
    "colab": {
     "base_uri": "https://localhost:8080/"
    },
    "id": "ROwTeFaz606L",
    "outputId": "e4823b97-3e5c-4a18-fb62-4d46e5c31c97"
   },
   "outputs": [],
   "source": [
    "from pyspark.ml.classification import GBTClassifier\n",
    "\n",
    "gbt = GBTClassifier(maxIter=10)\n",
    "gbtModel = gbt.fit(train)\n",
    "predictions = gbtModel.transform(test)\n",
    "predictions.select('age', 'job', 'label', 'rawPrediction', 'prediction', 'probability').show(10)"
   ]
  },
  {
   "cell_type": "markdown",
   "metadata": {
    "application/vnd.databricks.v1+cell": {
     "inputWidgets": {},
     "nuid": "eafee88c-db02-4818-ae96-6165bd61ca1a",
     "showTitle": false,
     "title": ""
    },
    "id": "5Od9M0JV606L"
   },
   "source": [
    "2. Perform cross-validation to compare different parameters.\n",
    "\n",
    "    Note that it can take a while because it's training over many gradient boosted trees. Give it at least 10 minutes to complete."
   ]
  },
  {
   "cell_type": "code",
   "execution_count": null,
   "metadata": {
    "application/vnd.databricks.v1+cell": {
     "inputWidgets": {},
     "nuid": "0e9fcb9e-a99a-41fa-bc9f-e58a5f5513bb",
     "showTitle": false,
     "title": ""
    },
    "colab": {
     "base_uri": "https://localhost:8080/"
    },
    "id": "_Upc0CJf606L",
    "outputId": "62d9aae2-ed37-491d-b651-1c5ec81d8e2e"
   },
   "outputs": [],
   "source": [
    "from pyspark.ml.tuning import ParamGridBuilder, CrossValidator\n",
    "paramGrid = (ParamGridBuilder()\n",
    "             .addGrid(gbt.maxDepth, [2, 4, 6])\n",
    "             .addGrid(gbt.maxBins, [20, 60])\n",
    "             .addGrid(gbt.maxIter, [10, 20])\n",
    "             .build())\n",
    "cv = CrossValidator(estimator=gbt, estimatorParamMaps=paramGrid, evaluator=evaluator, numFolds=5)\n",
    "cvModel = cv.fit(train)\n",
    "predictions = cvModel.transform(test)\n",
    "evaluator.evaluate(predictions)"
   ]
  },
  {
   "cell_type": "markdown",
   "metadata": {
    "id": "psf7A_uz606M"
   },
   "source": [
    "## Acknowledgements"
   ]
  },
  {
   "cell_type": "markdown",
   "metadata": {
    "id": "HH1MXhRU606M"
   },
   "source": [
    "\n",
    "This notebook is adapted from [Machine Learning with PySpark and MLlib](https://towardsdatascience.com/machine-learning-with-pyspark-and-mllib-solving-a-binary-classification-problem-96396065d2aa)"
   ]
  },
  {
   "attachments": {},
   "cell_type": "markdown",
   "metadata": {},
   "source": [
    "Algorithm Understanding\n",
    "How does the Gradient-Boosted Tree Algorithm work in Classification? How does Gradient Boost differ from AdaBoost and Logistic Regression?\n",
    "\n",
    "GBTs is a fancy way of combining multiple decision trees, it's like having a team of experts instead of just one, it makes the predictions more accurate. \n",
    "\n",
    "GBTs use a method called gradient descent to build the decision trees, it's a bit like fine-tuning, while AdaBoost is more like a trial and error approach. GBTs can work with different types of decision trees and it can handle both classification and regression tasks.\n",
    "\n",
    "Logistic Regression is a simple method to classify things based on a linear relationship, while GBTs are more complex, it can handle more complex situations.\n",
    "\n",
    "\n",
    "Interview Readiness\n",
    "What is a Delta Lake and how does it offer a solution to building reliable data pipelines?\n",
    "\n",
    "Delta Lake is a tool that sits on top of your data lake. It helps make sure your data is consistent and reliable by keeping track of all changes and allowing you to go back to previous versions if needed. It also helps with data governance by setting policies and controlling access. Essentially, Delta Lake ensures that your data is accurate, up-to-date, and secure, making your data pipelines more reliable.\n",
    "\n",
    "\n",
    "Interview Readiness\n",
    "When working with Pandas, we use the class pandas.core.frame.DataFrame and when working with the pandas API in Spark, we use the class pyspark.pandas.frame.DataFrame, are these the same, explain why or why not?\n",
    "\n",
    "The DataFrame classes in Pandas and PySpark have similar names, but they are used for different things.\n",
    "Pandas DataFrame is meant for small to medium-sized datasets that can fit into a single machine's memory. PySpark DataFrame is meant for large datasets that do not fit in memory and it runs on a cluster of machines.\n",
    "\n",
    "Interview Readiness\n",
    "What is a Machine Learning Pipeline is and why it’s important? What are the steps in a Machine Learning workflow?\n",
    "\n",
    "A Machine Learning Pipeline is a set of steps that take raw data and turn it into something that can be used to make predictions. It helps organize the work and make sure that things are done in the right order. The steps in a Machine Learning workflow are: data collection and cleaning, data exploration and visualization, model selection, model training, model testing, and model deployment. This pipeline ensures that the right model is used, and the model is working well. It also helps keep track of the process and improve it in the future.\n",
    "\n",
    "\n",
    "\n",
    "\n"
   ]
  }
 ],
 "metadata": {
  "application/vnd.databricks.v1+notebook": {
   "dashboards": [],
   "language": "python",
   "notebookMetadata": {
    "pythonIndentUnit": 4
   },
   "notebookName": "PySpark-Live-Assignment-Solution",
   "notebookOrigID": 1487042689144518,
   "widgets": {}
  },
  "colab": {
   "collapsed_sections": [],
   "provenance": [],
   "toc_visible": true
  },
  "kernelspec": {
   "display_name": "py39_12",
   "language": "python",
   "name": "python3"
  },
  "language_info": {
   "codemirror_mode": {
    "name": "ipython",
    "version": 3
   },
   "file_extension": ".py",
   "mimetype": "text/x-python",
   "name": "python",
   "nbconvert_exporter": "python",
   "pygments_lexer": "ipython3",
   "version": "3.9.12"
  },
  "toc": {
   "base_numbering": 1,
   "nav_menu": {},
   "number_sections": true,
   "sideBar": true,
   "skip_h1_title": false,
   "title_cell": "Table of Contents",
   "title_sidebar": "Contents",
   "toc_cell": false,
   "toc_position": {},
   "toc_section_display": true,
   "toc_window_display": false
  },
  "vscode": {
   "interpreter": {
    "hash": "88561d0bc5b69604957088bfa2587d663a56ccbdcc81841f8000d21e6f9f8f00"
   }
  }
 },
 "nbformat": 4,
 "nbformat_minor": 1
}
